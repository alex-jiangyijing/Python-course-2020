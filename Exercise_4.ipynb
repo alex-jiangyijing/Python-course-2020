{
 "cells": [
  {
   "cell_type": "markdown",
   "metadata": {
    "deletable": false,
    "editable": false,
    "nbgrader": {
     "cell_type": "markdown",
     "checksum": "f4c8e1a026704b146d8c6da89a1366f8",
     "grade": false,
     "grade_id": "cell-515e01b25bda86a9",
     "locked": true,
     "schema_version": 3,
     "solution": false,
     "task": false
    }
   },
   "source": [
    "# Exercise 4"
   ]
  },
  {
   "cell_type": "markdown",
   "metadata": {
    "deletable": false,
    "editable": false,
    "nbgrader": {
     "cell_type": "markdown",
     "checksum": "4b626efa2d7eef08626b61e49a967259",
     "grade": false,
     "grade_id": "cell-14ca577e70096fbf",
     "locked": true,
     "schema_version": 3,
     "solution": false,
     "task": false
    }
   },
   "source": [
    "## physics718: Programming in Physics and Astronomy with C++ or Python (SS 2020)\n",
    "Oliver Cordes & Thomas Erben"
   ]
  },
  {
   "cell_type": "markdown",
   "metadata": {
    "deletable": false,
    "editable": false,
    "nbgrader": {
     "cell_type": "markdown",
     "checksum": "285935f99eb5798af40d1334cfe8fc6b",
     "grade": false,
     "grade_id": "cell-58e8949e2e41603c",
     "locked": true,
     "schema_version": 3,
     "solution": false,
     "task": false
    }
   },
   "source": [
    "Homework is due on **Friday, 29/05/2020, 23:59pm**\n",
    "\n",
    " * You only learn a programming language by actively praticing and using it! We therefore **strongly** advise you to work on the homework problems.\n",
    " * Please discuss the problems with your student peers in case of problems.\n",
    " * Your code(s) needs to be well and appropriately commented!\n",
    " * All files of your solution should be in the same directory as this notebook including scripts, images, additional notebooks etc.\n",
    " * References to files in scripts and notebooks should be done with relative paths\n",
    " * Finally submit this notebook with your solutions in the nbgrader system\n",
    " \n",
    "**Main topics of this exercise:**\n",
    " * functions\n",
    " * *numpy* arrays"
   ]
  },
  {
   "cell_type": "markdown",
   "metadata": {},
   "source": [
    "Put in here your group number: \n",
    "\n",
    "Group 26"
   ]
  },
  {
   "cell_type": "markdown",
   "metadata": {
    "deletable": false,
    "editable": false,
    "nbgrader": {
     "cell_type": "markdown",
     "checksum": "0c9bde102be5e00f66d648db1d9897c4",
     "grade": false,
     "grade_id": "cell-5cda14cc36961ab2",
     "locked": true,
     "schema_version": 3,
     "solution": false,
     "task": false
    }
   },
   "source": [
    "# 1. Sieves with numpy (20 Points)"
   ]
  },
  {
   "cell_type": "markdown",
   "metadata": {
    "deletable": false,
    "editable": false,
    "nbgrader": {
     "cell_type": "markdown",
     "checksum": "ea9ecc2c2cbaa0f9c4dbe6ba6f75cbef",
     "grade": false,
     "grade_id": "cell-f3ef7b1b33b7906e",
     "locked": true,
     "schema_version": 3,
     "solution": false,
     "task": false
    }
   },
   "source": [
    "One mathematical algorithm to generate sequences of numbers is the sieve algorithm. In these algorithms one starts with a list of integer numbers $1,2,3,4,...$ and consecutively removes individual numbers with a given rule set. The most prominent sieves are the Sieve of Eratosthenes and the Sieve to generate Lucky numbers. In this exercise we want to implement both sieves with numpy operations."
   ]
  },
  {
   "cell_type": "markdown",
   "metadata": {
    "deletable": false,
    "editable": false,
    "nbgrader": {
     "cell_type": "markdown",
     "checksum": "11732e9c7e2c5607f0ca414f78dd1dc0",
     "grade": false,
     "grade_id": "cell-55ffd4d13abbd1ec",
     "locked": true,
     "schema_version": 3,
     "solution": false,
     "task": false
    }
   },
   "source": [
    "## 1.1 The sieve of Eratosthenes (10 Points)"
   ]
  },
  {
   "cell_type": "markdown",
   "metadata": {
    "deletable": false,
    "editable": false,
    "nbgrader": {
     "cell_type": "markdown",
     "checksum": "102cbbc46ee4efb32c16eac98eb2924e",
     "grade": false,
     "grade_id": "cell-8af41583ca223a73",
     "locked": true,
     "schema_version": 3,
     "solution": false,
     "task": false
    }
   },
   "source": [
    "The sieve of Eratosthenes is an easy but effective algorithm to search for prime numbers until a given number $N$. \n",
    "\n",
    "You can use the following steps to implement the sieve:\n",
    "\n",
    " 1. you can create an boolean *numpy*-array of the length $N+1$ in which all elements have the value *True*. The indices \n",
    "   in this array represents the integer numbers. At the end of the procedure all the indices of the elemnets with are *True* are    the prime numbers.\n",
    " 2. set the array elements with the indices 0 and 1 to False, because they are no prime numbers\n",
    " 3. start with the element at the index 2, sets all elements to *False* which are multiples of the current index. Don't change \n",
    "   the current index! For the index 2, the indices of the elements to be set to *False* are $4, 6, 8, \\dots$. For the index 3\n",
    "   the indices are $6, 9, 12, \\cdots$, etc. \n",
    " 4. do step 3. for all indices $i$ with $2\\leq i \\leq \\sqrt{N}$ \n",
    " 5. Finally all indices with are *True* representing prime numbers.\n",
    "\n",
    "The following figure illustrate the algorithm. Prime numbers are marked with arrows.\n",
    "\n",
    "<img src=\"prime-sieve.jpg\" style=\"width: 400px;\"> \n",
    "\n",
    "**Your task**:\n",
    "\n",
    "Implement the sieve of Eratosthenes in a python function *sieve_of_eratosthenes*. The function should have only one argument, the number of elements $N$. The function should return a numpy array of the prime numbers."
   ]
  },
  {
   "cell_type": "markdown",
   "metadata": {
    "deletable": false,
    "editable": false,
    "nbgrader": {
     "cell_type": "markdown",
     "checksum": "2c070ac0f5e0cee868beafff92cea645",
     "grade": false,
     "grade_id": "cell-31727d67d9bafc27",
     "locked": true,
     "schema_version": 3,
     "solution": false,
     "task": false
    }
   },
   "source": [
    "**Hints**:\n",
    " * Use the numpy masking to set all mupliples of an index to *False*. \n",
    " * you can create an bool array like this"
   ]
  },
  {
   "cell_type": "code",
   "execution_count": 22,
   "metadata": {},
   "outputs": [
    {
     "data": {
      "text/plain": [
       "array([ True,  True,  True,  True,  True,  True,  True,  True,  True,\n",
       "        True,  True,  True,  True,  True,  True,  True,  True,  True,\n",
       "        True,  True])"
      ]
     },
     "execution_count": 22,
     "metadata": {},
     "output_type": "execute_result"
    }
   ],
   "source": [
    "import numpy as np\n",
    "\n",
    "b = np.array([True]*20)  # create a bool numpy array with 20 elements\n",
    "b"
   ]
  },
  {
   "cell_type": "markdown",
   "metadata": {
    "deletable": false,
    "editable": false,
    "nbgrader": {
     "cell_type": "markdown",
     "checksum": "28b56bd7bcb8c0a827bd7758a7582db3",
     "grade": false,
     "grade_id": "cell-e9eb248ad7d31244",
     "locked": true,
     "schema_version": 3,
     "solution": false,
     "task": false
    }
   },
   "source": [
    " * To convert the bool array into a list of numbers you can use these algorithm:"
   ]
  },
  {
   "cell_type": "code",
   "execution_count": 23,
   "metadata": {},
   "outputs": [
    {
     "name": "stdout",
     "output_type": "stream",
     "text": [
      "[2 3 5]\n"
     ]
    }
   ],
   "source": [
    "import numpy as np\n",
    "\n",
    "c = [False, False, True, True, False, True]\n",
    "print(np.nonzero(c)[0])"
   ]
  },
  {
   "cell_type": "code",
   "execution_count": 97,
   "metadata": {
    "deletable": false,
    "nbgrader": {
     "cell_type": "code",
     "checksum": "b890e98eb2086458e9a40648b6784a89",
     "grade": false,
     "grade_id": "cell-4cd67300e951472b",
     "locked": false,
     "schema_version": 3,
     "solution": true,
     "task": false
    }
   },
   "outputs": [
    {
     "data": {
      "text/plain": [
       "array([ 2,  3,  5,  7, 11, 13, 17, 19, 23, 29, 31, 37, 41, 43, 47, 53, 59,\n",
       "       61, 67, 71, 73, 79, 83, 89, 97])"
      ]
     },
     "execution_count": 97,
     "metadata": {},
     "output_type": "execute_result"
    }
   ],
   "source": [
    "import sys\n",
    "import math\n",
    "import numpy as np\n",
    "\n",
    "# The following ensures that arrays are printed without truncation within a notebook\n",
    "np.set_printoptions(threshold=sys.maxsize)\n",
    "\n",
    "#define a function that gives all the prime numbers smaller than or equal to N\n",
    "def sieve_of_eratosthenes(N):\n",
    "    #initialize an array with N+1 boolean values all set to true.\n",
    "    p = np.array([True]*(N+1))\n",
    "    \n",
    "    #0 and 1 are both non-prime\n",
    "    p[0]=p[1]=False\n",
    "    \n",
    "    #loop over each integers within 2 and \\sqrt{N}\n",
    "    for mul in range(2,math.ceil(np.sqrt(N))):\n",
    "        \n",
    "        #create a mask for each multiplier\n",
    "        mask=[i*mul for i in range(2,N//mul+1)]\n",
    "        \n",
    "        #set the masked values to false\n",
    "        p[mask]=False\n",
    "        \n",
    "    #return the index of true values    \n",
    "    return np.nonzero(p)[0]\n",
    "    \n",
    "sieve_of_eratosthenes(100)"
   ]
  },
  {
   "cell_type": "markdown",
   "metadata": {
    "deletable": false,
    "editable": false,
    "nbgrader": {
     "cell_type": "markdown",
     "checksum": "e5d47979051be2727b6f609221055993",
     "grade": false,
     "grade_id": "cell-b9fe3f685950170c",
     "locked": true,
     "schema_version": 3,
     "solution": false,
     "task": false
    }
   },
   "source": [
    "Test your code here:"
   ]
  },
  {
   "cell_type": "code",
   "execution_count": 56,
   "metadata": {},
   "outputs": [
    {
     "name": "stdout",
     "output_type": "stream",
     "text": [
      "[2 3 5 7]\n"
     ]
    }
   ],
   "source": [
    "print(sieve_of_eratosthenes(10))"
   ]
  },
  {
   "cell_type": "code",
   "execution_count": 57,
   "metadata": {
    "deletable": false,
    "editable": false,
    "nbgrader": {
     "cell_type": "code",
     "checksum": "3241db5b2872dc7f1fb823eaa2de44cf",
     "grade": true,
     "grade_id": "cell-27b8e38247f42fca",
     "locked": true,
     "points": 10,
     "schema_version": 3,
     "solution": false,
     "task": false
    }
   },
   "outputs": [],
   "source": [
    "assert(np.any(sieve_of_eratosthenes(10) == np.array([2,3,5,7])))"
   ]
  },
  {
   "cell_type": "markdown",
   "metadata": {
    "deletable": false,
    "editable": false,
    "nbgrader": {
     "cell_type": "markdown",
     "checksum": "05342f85237bac45a008e7c7e582df29",
     "grade": false,
     "grade_id": "cell-54b4d70e6eed5ee5",
     "locked": true,
     "schema_version": 3,
     "solution": false,
     "task": false
    }
   },
   "source": [
    "## 1.2 Lucky numbers (10 Points)"
   ]
  },
  {
   "cell_type": "markdown",
   "metadata": {
    "deletable": false,
    "editable": false,
    "nbgrader": {
     "cell_type": "markdown",
     "checksum": "e02db5f9be5a5b7d57e35ca4e33c7825",
     "grade": false,
     "grade_id": "cell-48e5f6f0d07155db",
     "locked": true,
     "schema_version": 3,
     "solution": false,
     "task": false
    }
   },
   "source": [
    "The second sieve algorithm is the generation of the so called *Lucky numbers*. These are a series of integer numbers $1,3,7,9,13,...$. The steps for the sieve are as follows:\n",
    "\n",
    "1. begin with a list of integers starting with $1$:\n",
    "   $$1, 2, 3, 4, 5, 6, 7, 8, 9, 10, 11, 12, 13, 14, 15, 16, 17, 18, 19, 20, 21, 22, 23, 24, 25, ...$$\n",
    "2. now eliminate every second number:\n",
    "   $$ 1, 3, 5, 7, 9, 11, 13, 15, 17, 19, 21, 23, 25, ... $$\n",
    "3. the second remaining number is 3, so remove every 3rd number:\n",
    "   $$ 1, 3, 7, 9, 13, 15, 19, 21, 25, ... $$\n",
    "4. the next remaining number is 7, so remove every 7th number:\n",
    "   $$ 1, 3, 7, 9, 13, 15, 21, 25, ... $$\n",
    "5. next, remove every 9th number and so on.\n",
    "\n",
    "**Your task**:\n",
    "\n",
    "Write a function *lucky_numbers* which has one argument $N$ which is the maximum number to be checked. The function should return a numpy array which contains the lucky numbers smaller or equal $n$. Choose a proper return value for the case $N=0$ and $N=1$. It is forbidden to loop over elements, only numpy functions are allowed! In comparison to the sieve of Eratosthenes you will reduce the elements of the list of numbers in each step by masking instead of creating a full mask for the prime numbers.\n",
    "\n",
    "**Hints**:\n",
    "* use a while loop for all the masking steps, the loop should end when the current index is reaching the length of the array. Note here that the length is changing in every step!\n",
    "* in each step create a bool mask in which you define which element should be masked out with *False* and apply this mask\n",
    "  to get a new array"
   ]
  },
  {
   "cell_type": "code",
   "execution_count": 73,
   "metadata": {
    "deletable": false,
    "nbgrader": {
     "cell_type": "code",
     "checksum": "61da9f37c64223f0f6111f06a6564f90",
     "grade": false,
     "grade_id": "cell-5a611fd1bb110a82",
     "locked": false,
     "schema_version": 3,
     "solution": true,
     "task": false
    }
   },
   "outputs": [
    {
     "name": "stdout",
     "output_type": "stream",
     "text": [
      "[ 1  3  7  9 13]\n"
     ]
    },
    {
     "data": {
      "text/plain": [
       "array([ 1,  3,  7,  9, 13])"
      ]
     },
     "execution_count": 73,
     "metadata": {},
     "output_type": "execute_result"
    }
   ],
   "source": [
    "import numpy as np\n",
    "\n",
    "#define a function that gives all the lucky numbers smaller than or equal to N\n",
    "def lucky_numbers(N):\n",
    "    \n",
    "    #create an array from 1 to N\n",
    "    p=np.arange(1,N+1)\n",
    "    \n",
    "    #edge cases handling: return the original arrays if N=0 or 1.\n",
    "    if N in [0,1]:\n",
    "        return p\n",
    "    \n",
    "    #create a mask of the same length as p, initialize to true\n",
    "    mask = np.ones(len(p), dtype=bool)\n",
    "    \n",
    "    #every second number are set to false\n",
    "    mask[1::2]=False\n",
    "    p=p[mask]\n",
    "    \n",
    "    i=1\n",
    "    \n",
    "    #loop until current index is bigger than the length of p\n",
    "    while p[i]<=len(p):\n",
    "        \n",
    "        #change the length of the mask each time because the length of p is changing\n",
    "        mask = np.ones(len(p), dtype=bool)\n",
    "        \n",
    "        #find the multiplier p[i] and set every multiples of that to false\n",
    "        mask[(p[i]-1)::p[i]]=False\n",
    "        \n",
    "        #delete the corresponding numbers in p\n",
    "        p=p[mask]\n",
    "        i=i+1\n",
    "    return p\n",
    "\n",
    "lucky_numbers(13)\n",
    "    "
   ]
  },
  {
   "cell_type": "markdown",
   "metadata": {
    "deletable": false,
    "editable": false,
    "nbgrader": {
     "cell_type": "markdown",
     "checksum": "ec3be90168be8b240195f6acefd8764a",
     "grade": false,
     "grade_id": "cell-44a86e6aac0661dd",
     "locked": true,
     "schema_version": 3,
     "solution": false,
     "task": false
    }
   },
   "source": [
    "Your test cell:"
   ]
  },
  {
   "cell_type": "code",
   "execution_count": 74,
   "metadata": {},
   "outputs": [
    {
     "name": "stdout",
     "output_type": "stream",
     "text": [
      "[1 3 7 9]\n",
      "[1 3 7 9]\n"
     ]
    }
   ],
   "source": [
    "print(lucky_numbers(10))"
   ]
  },
  {
   "cell_type": "code",
   "execution_count": 75,
   "metadata": {
    "deletable": false,
    "editable": false,
    "nbgrader": {
     "cell_type": "code",
     "checksum": "a93a2ce33ebf98e64249febe35832d1b",
     "grade": true,
     "grade_id": "cell-b7431ef708aff2bf",
     "locked": true,
     "points": 10,
     "schema_version": 3,
     "solution": false,
     "task": false
    }
   },
   "outputs": [
    {
     "name": "stdout",
     "output_type": "stream",
     "text": [
      "[ 1  3  7  9 13]\n"
     ]
    }
   ],
   "source": [
    "b = lucky_numbers(13)\n",
    "assert(np.all(b == np.array([1,3,7,9,13], dtype=np.int64) ))"
   ]
  },
  {
   "cell_type": "markdown",
   "metadata": {
    "deletable": false,
    "editable": false,
    "nbgrader": {
     "cell_type": "markdown",
     "checksum": "3de9fa924874e2a1a4525e31fa139f77",
     "grade": false,
     "grade_id": "cell-bd12855877777712",
     "locked": true,
     "schema_version": 3,
     "solution": false,
     "task": false
    }
   },
   "source": [
    "# 2. Sampling problem (10 Points)"
   ]
  },
  {
   "cell_type": "markdown",
   "metadata": {
    "deletable": false,
    "editable": false,
    "nbgrader": {
     "cell_type": "markdown",
     "checksum": "7b07165aef13dc05f428c5fc1cb73d86",
     "grade": false,
     "grade_id": "cell-a6f613b2b99839fd",
     "locked": true,
     "schema_version": 3,
     "solution": false,
     "task": false
    }
   },
   "source": [
    "In the first exercise we had a documentation about the Bessel functions. We will again look at the Bessel functions of the first kind which can be written for $x\\gg n$ in the asymptotic form:\n",
    "\n",
    "$$J_n(x) \\approx \\sqrt{\\frac{2}{\\pi x}}\\cos(x-(n\\frac{\\pi}{2}+\\frac{\\pi}{4}))$$\n",
    "\n",
    "As you can see it is a periodic function which envelope scales with $\\approx \\sqrt{\\frac{1}{x}}$. \n",
    "\n",
    "For different values of $n$ for $x\\gg n$ the periodic approximations only differ in the phase, so we can use $n=0$ as an example."
   ]
  },
  {
   "cell_type": "markdown",
   "metadata": {
    "deletable": false,
    "editable": false,
    "nbgrader": {
     "cell_type": "markdown",
     "checksum": "af5ceb6c8b19452dd7a94da88da94e5c",
     "grade": false,
     "grade_id": "cell-857e6f5befb08db3",
     "locked": true,
     "schema_version": 3,
     "solution": false,
     "task": false
    }
   },
   "source": [
    "Usually to plot a function with matplotlib you're using a $x$ array created with *np.linspace* in an interval $[a,b]$, calculate the function values $y$  and plot $x$ vs. $y$. If we are doing so, we get the plot from the interval $[0.1,50]$ (left plot) and $[0.1,300]$ (right plot). \n",
    "<table>\n",
    "    <tr>\n",
    "        <td><img src=\"bessel50_plot.png\"/></td>\n",
    "        <td><img src=\"bessel300_plot.png\"/></td>\n",
    "    </tr>\n",
    "</table>\n",
    "In both plots the red lines are the upper envelopes of the Bessel functions. As one can see the right plot looks not as expected whereas the left one fits nicely the envelope function. "
   ]
  },
  {
   "cell_type": "markdown",
   "metadata": {
    "deletable": false,
    "editable": false,
    "nbgrader": {
     "cell_type": "markdown",
     "checksum": "d22873e2206b7dc1485233f0647836ae",
     "grade": false,
     "grade_id": "cell-17f3af56c3efef4b",
     "locked": true,
     "schema_version": 3,
     "solution": false,
     "task": false
    }
   },
   "source": [
    "This problem is well understood and described as the Nyquist sampling (have a look at this [page](http://microscopy.berkeley.edu/courses/dib/sections/02Images/sampling.html)). It basically means that the amount of numbers which is used for the plot is too small in the right plot. \n",
    "\n",
    "During the discussions of this problem is how to quantify how good the sampling of the function would be. One idea \n",
    "was that undersampled periodic functions have less roots than a well sampled functions. Your task would be to calculate the minimum number of elements a sampled Bessel function should have.\n",
    "\n",
    "**Your task**:\n",
    "\n",
    " * implement the $J_0$ function.\n",
    " * write a function *min_samples* and calculates the minimum number of elements necessary to make a proper plot for $J_0$ from $0.1$ until $300$ and plot the function. Do the plot looks now okay? *min_samples* should accept two parameters $a$ and $b$ which describes the plot interval and should return an integer as the result.\n",
    "\n"
   ]
  },
  {
   "cell_type": "code",
   "execution_count": 157,
   "metadata": {
    "deletable": false,
    "nbgrader": {
     "cell_type": "code",
     "checksum": "d81d5e2f7f7fb22d551248e4e7d3947a",
     "grade": false,
     "grade_id": "cell-aab1858be683b9fb",
     "locked": false,
     "schema_version": 3,
     "solution": true,
     "task": false
    }
   },
   "outputs": [
    {
     "data": {
      "text/plain": [
       "96"
      ]
     },
     "execution_count": 157,
     "metadata": {},
     "output_type": "execute_result"
    }
   ],
   "source": [
    "%matplotlib inline\n",
    "\n",
    "import matplotlib.pyplot as plt\n",
    "import numpy as np\n",
    "import math\n",
    "\n",
    "#define the asmptotic form of j_0\n",
    "def j_0(x):\n",
    "    return np.sqrt(2/(np.pi*x))*np.cos(x-np.pi/4)\n",
    "\n",
    "def min_sample(a, b):\n",
    "    #find the smallest integer that is bigger than or equal to a\n",
    "    n_min=math.ceil(a/np.pi-3/4)\n",
    "    \n",
    "    #find the biggest integer that is smaller than or equal to b\n",
    "    n_max=math.floor(b/np.pi-3/4)\n",
    "    \n",
    "    #return the number of zeros plus 1\n",
    "    return n_max-n_min+2\n",
    "\n",
    "min_sample(0.1,300)\n",
    "  "
   ]
  },
  {
   "cell_type": "markdown",
   "metadata": {
    "deletable": false,
    "editable": false,
    "nbgrader": {
     "cell_type": "markdown",
     "checksum": "d53d81c7519ea83d4b3df365ca943294",
     "grade": false,
     "grade_id": "cell-85813c6802e384ae",
     "locked": true,
     "schema_version": 3,
     "solution": false,
     "task": false
    }
   },
   "source": [
    "Write here your own tests:"
   ]
  },
  {
   "cell_type": "code",
   "execution_count": 159,
   "metadata": {},
   "outputs": [
    {
     "data": {
      "text/plain": [
       "[<matplotlib.lines.Line2D at 0x7f94bfeeea90>]"
      ]
     },
     "execution_count": 159,
     "metadata": {},
     "output_type": "execute_result"
    },
    {
     "data": {
      "image/png": "[encoded data removed]",
      "text/plain": [
       "<Figure size 432x288 with 1 Axes>"
      ]
     },
     "metadata": {
      "needs_background": "light"
     },
     "output_type": "display_data"
    }
   ],
   "source": [
    "import matplotlib.pyplot as plt\n",
    "x=np.linspace(0.1,300,min_sample(0.1,300))\n",
    "y=j_0(x)\n",
    "plt.plot(x,y)\n",
    "plt.plot(x,1/np.sqrt(x))"
   ]
  },
  {
   "cell_type": "code",
   "execution_count": 151,
   "metadata": {
    "deletable": false,
    "editable": false,
    "nbgrader": {
     "cell_type": "code",
     "checksum": "3c4c6eb6ac6e38eb4f52bc41485c1189",
     "grade": true,
     "grade_id": "cell-7e4f94adf55cc9c2",
     "locked": true,
     "points": 10,
     "schema_version": 3,
     "solution": false,
     "task": false
    }
   },
   "outputs": [],
   "source": [
    "assert(min_sample(0.1,300) == 96)"
   ]
  },
  {
   "cell_type": "markdown",
   "metadata": {
    "deletable": false,
    "editable": false,
    "nbgrader": {
     "cell_type": "markdown",
     "checksum": "a8d7e9470cd33b91e2e87d2ee1dab4d8",
     "grade": false,
     "grade_id": "cell-0feb6ad45a48bd0c",
     "locked": true,
     "schema_version": 3,
     "solution": false,
     "task": false
    }
   },
   "source": [
    "# 3. A fair game? (20 Points)"
   ]
  },
  {
   "cell_type": "markdown",
   "metadata": {
    "deletable": false,
    "editable": false,
    "nbgrader": {
     "cell_type": "markdown",
     "checksum": "108d063ab741c9114b57044d91b192ac",
     "grade": false,
     "grade_id": "cell-2ec32c518899efbb",
     "locked": true,
     "schema_version": 3,
     "solution": false,
     "task": false
    }
   },
   "source": [
    "A gambler offers you the following game:\n",
    "1. To play one game, you have to pay him 600 Euros.\n",
    "2. For each game you have to give him a limit between 2 and 999 Euros.\n",
    "3. He gives you an envelope with an arbitraty amount of money (uniform distribution) between 1 and 1000 Euros.\n",
    "4. If the amount of money in the envelope is equal or above your limit of (2.) you have to accept the money and the game ends.\n",
    "5. If the amount of money in the envelope is below your limit of (2), he gives you a new envelope - again with an arbitrary amount of money between 1 and 1000 Euros. You have to accept the amount of money in the second envelope and the game ends. Note that the amount of money in the second envelope can be lower than what you would have got with the first one!\n",
    "\n",
    "\n",
    "In this task, we want to check, with which strategy for the limit of (2) the game  is favourable for you. The game is said to be favourable if the *expectation value* of your win minus the initial bet of 600 Euros is positive."
   ]
  },
  {
   "cell_type": "markdown",
   "metadata": {
    "deletable": false,
    "editable": false,
    "nbgrader": {
     "cell_type": "markdown",
     "checksum": "ac1a049bf5d2091d18dc1e737618d4ce",
     "grade": false,
     "grade_id": "cell-bc36c45de7666c86",
     "locked": true,
     "schema_version": 3,
     "solution": false,
     "task": false
    }
   },
   "source": [
    "**Your tasks**:"
   ]
  },
  {
   "cell_type": "markdown",
   "metadata": {
    "deletable": false,
    "editable": false,
    "nbgrader": {
     "cell_type": "markdown",
     "checksum": "d088c37814df45ec17bd442ab1d9ce8b",
     "grade": false,
     "grade_id": "cell-bcf5865d716f984b",
     "locked": true,
     "schema_version": 3,
     "solution": false,
     "task": false
    }
   },
   "source": [
    "1. Write a function `win` which takes the limit of (2) as an argument. Within the function perform 20000 simulation of the game. The function should return the mean and the standard deviation of the win from the 20000 realisations.\n",
    "\n",
    "  **Hints / Remarks:** \n",
    "  1. a *numpy*-array with the necessary random numbers can be created with the `numpy.random.uniform` function; \n",
    "  2. besides the creation of the initial array of random numbers, the function can be done with 2-3 essential lines of code using boolean indexing and array assignments; it is very similar to the *estimation of $\\pi$*-example we did in the lecture stream; \n",
    "  3. mean and standard deviation of a *numpy*-array can be obtained with the function `np.mean` and `np.std`. \n",
    "  4. you are **not** allowed to use any loop constructs over the 20000 simulations within this function.\n",
    "  \n",
    "2. In the main body of your program, loop over possible limits from 1 to 999 Euros, obtain the win expectation with those strategies and store these values in a *numpy*-array. Make a plot of the expected win values. For wich strategies is the game favourable for you?\n",
    "\n",
    "  **Hint:** We will learn later, how you could do also this task without a loop-construct.\n",
    "  \n",
    "3. Finally, consider playing games with setting the limit arbitrarily between 1 and 999 Euros for each game. What is the expected win and the standard deviation in that case?  "
   ]
  },
  {
   "cell_type": "code",
   "execution_count": 128,
   "metadata": {
    "deletable": false,
    "nbgrader": {
     "cell_type": "code",
     "checksum": "404c51fdaf6778660bd42bceb053e339",
     "grade": true,
     "grade_id": "cell-fbc9fbaa08b141aa",
     "locked": false,
     "points": 20,
     "schema_version": 3,
     "solution": true,
     "task": false
    }
   },
   "outputs": [
    {
     "name": "stdout",
     "output_type": "stream",
     "text": [
      "584.437081739861 272.80944087514297\n",
      "[266 274 275 276 277 280 282 283 284 285 286 287 289 290 291 292 293 294\n",
      " 295 296 297 298 299 300 301 302 303 304 305 306 307 308 309 310 311 312\n",
      " 313 314 315 316 317 318 319 320 321 322 323 324 325 326 327 328 329 330\n",
      " 331 332 333 334 335 336 337 338 339 340 341 342 343 344 345 346 347 348\n",
      " 349 350 351 352 353 354 355 356 357 358 359 360 361 362 363 364 365 366\n",
      " 367 368 369 370 371 372 373 374 375 376 377 378 379 380 381 382 383 384\n",
      " 385 386 387 388 389 390 391 392 393 394 395 396 397 398 399 400 401 402\n",
      " 403 404 405 406 407 408 409 410 411 412 413 414 415 416 417 418 419 420\n",
      " 421 422 423 424 425 426 427 428 429 430 431 432 433 434 435 436 437 438\n",
      " 439 440 441 442 443 444 445 446 447 448 449 450 451 452 453 454 455 456\n",
      " 457 458 459 460 461 462 463 464 465 466 467 468 469 470 471 472 473 474\n",
      " 475 476 477 478 479 480 481 482 483 484 485 486 487 488 489 490 491 492\n",
      " 493 494 495 496 497 498 499 500 501 502 503 504 505 506 507 508 509 510\n",
      " 511 512 513 514 515 516 517 518 519 520 521 522 523 524 525 526 527 528\n",
      " 529 530 531 532 533 534 535 536 537 538 539 540 541 542 543 544 545 546\n",
      " 547 548 549 550 551 552 553 554 555 556 557 558 559 560 561 562 563 564\n",
      " 565 566 567 568 569 570 571 572 573 574 575 576 577 578 579 580 581 582\n",
      " 583 584 585 586 587 588 589 590 591 592 593 594 595 596 597 598 599 600\n",
      " 601 602 603 604 605 606 607 608 609 610 611 612 613 614 615 616 617 618\n",
      " 619 620 621 622 623 624 625 626 627 628 629 630 631 632 633 634 635 636\n",
      " 637 638 639 640 641 642 643 644 645 646 647 648 649 650 651 652 653 654\n",
      " 655 656 657 658 659 660 661 662 663 664 665 666 667 668 669 670 671 672\n",
      " 673 674 675 676 677 678 679 680 681 682 683 684 685 686 687 688 689 690\n",
      " 691 692 693 694 695 696 697 698 699 700 701 702 703 704 705 706 707 708\n",
      " 709 710 711 712 713 714 715 716 717 719 720 721 722 723 724 725 728 732\n",
      " 745]\n"
     ]
    },
    {
     "data": {
      "image/png": "[encoded data removed]",
      "text/plain": [
       "<Figure size 432x288 with 1 Axes>"
      ]
     },
     "metadata": {
      "needs_background": "light"
     },
     "output_type": "display_data"
    }
   ],
   "source": [
    "# YOUR CODE HERE\n",
    "import numpy as np\n",
    "import matplotlib.pyplot as plt\n",
    "\n",
    "#define a function which gives the average and the standard deviation of 20000 trial rounds\n",
    "def win(limit):\n",
    "    \n",
    "    #create an array with shape (20000,2) from uniform distribution\n",
    "    realisations = np.random.uniform(1,1001,(20000,2))\n",
    "    \n",
    "    #create a mask where the correct column is chosen\n",
    "    mask=np.where(realisations[:,0]>=limit,0,1)\n",
    "    \n",
    "    #select the right column in each row to get an one-dimensional array with 20000 numbers\n",
    "    payoff=realisations[np.array([True]*20000),mask]\n",
    "    return np.mean(payoff), np.std(payoff)\n",
    "\n",
    "#create two empty arrays\n",
    "average=np.array([])\n",
    "standard_deviation=np.array([])\n",
    "\n",
    "#loop over all possible limits\n",
    "for i in range(2,1000):\n",
    "    \n",
    "    #put the average win and std of that limit respectively into two arrays\n",
    "    average=np.append(average,win(i)[0])\n",
    "    standard_deviation=np.append(standard_deviation,win(i)[1])\n",
    "\n",
    "#calculate the respective averages of these two arrays\n",
    "exp_win=np.mean(average)\n",
    "exp_std=np.mean(standard_deviation)\n",
    "print(exp_win,exp_std)\n",
    "\n",
    "#plot the expected win for each possible limit\n",
    "plt.plot(range(2,1000),average)\n",
    "\n",
    "#find the win that is bigger than 600 and then find the corresponding limit\n",
    "favorable=np.where(average>600)[0]+2\n",
    "print(favorable)"
   ]
  },
  {
   "cell_type": "code",
   "execution_count": null,
   "metadata": {},
   "outputs": [],
   "source": []
  },
  {
   "cell_type": "code",
   "execution_count": null,
   "metadata": {},
   "outputs": [],
   "source": []
  }
 ],
 "metadata": {
  "kernelspec": {
   "display_name": "Python 3",
   "language": "python",
   "name": "python3"
  },
  "language_info": {
   "codemirror_mode": {
    "name": "ipython",
    "version": 3
   },
   "file_extension": ".py",
   "mimetype": "text/x-python",
   "name": "python",
   "nbconvert_exporter": "python",
   "pygments_lexer": "ipython3",
   "version": "3.7.3"
  }
 },
 "nbformat": 4,
 "nbformat_minor": 4
}
