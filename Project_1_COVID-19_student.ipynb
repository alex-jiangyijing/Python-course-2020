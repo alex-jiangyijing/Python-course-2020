{
 "cells": [
  {
   "cell_type": "markdown",
   "metadata": {},
   "source": [
    "# Project 1 - COVID-19 Data Analysis"
   ]
  },
  {
   "cell_type": "markdown",
   "metadata": {},
   "source": [
    "**Project deadline:** This project is due for submission on Monday, 25.05.2020. You receive details on the submission process from your tutor!"
   ]
  },
  {
   "cell_type": "markdown",
   "metadata": {},
   "source": [
    "**PLEASE READ THIS NOTEBOOK COMPLETELY BEFORE YOU START TO WORK ON THE PROJECT!**"
   ]
  },
  {
   "cell_type": "markdown",
   "metadata": {},
   "source": [
    "## About the Projects\n",
    "- You will get one project approximately every other week.\n",
    "- Besides the homework-assignmentts, you need to solve the projects in order to pass the course. Your final course mark consists of the mean of your project marks. We aim to hand-out six projects during the term and we do not consider the worst project mark for your final course mark. Projects that you do not hand in are counted with a mark of 4.\n",
    "- The projects need to be submitted to your tutor and he will give you necessary information on the submission process!\n",
    "- **In contrast to the homework exercises, each student must hand in an own solution for the projects! Of course you can and should discuss problems with each other! However, you must not use code or code-parts from your student peers in your project solutions!**\n",
    "\n",
    "**Note: The tutors, Oliver and I are very happy to help you out with difficulties you might have with the project tasks! You can ask questions any time but please do so well in advance of the deadlines!**"
   ]
  },
  {
   "cell_type": "markdown",
   "metadata": {},
   "source": [
    "## Analysis of public COVID-19 data"
   ]
  },
  {
   "cell_type": "markdown",
   "metadata": {},
   "source": [
    "In this first project, we would like to demonstrate that you can do advanced data analysis already with your current knowledge and with just a few lines of `Python`-code. Nevertheless the notebook contains some more advanced technical aspects to load data from the WWW and to prepare them for further analysis. Please do not worry if you do not fully understand all details of that part right now. We will cover those aspects later in the term.\n",
    "\n",
    "We will do this project with a topic concerning all of us the moment, the COVID-19 pandemy. We will download publicly available data with a daily listing of new (known!) COVID-19 cases and new deaths due to the pandemy. The data set contains information on *all* countries with known COVID-19 cases. Your task will be to analyse the development of the pandemy and to check which countries currently do have a raising number of infectious COVID-19 patients.\n",
    "\n",
    "The data that we will use in this notebook are daily updated and published by the [European Centre for Disease Prevention and Control](https://www.ecdc.europa.eu/en/publications-data/download-todays-data-geographic-distribution-covid-19-cases-worldwide)."
   ]
  },
  {
   "cell_type": "code",
   "execution_count": 1,
   "metadata": {},
   "outputs": [],
   "source": [
    "# We need some modules (Python libraries) in the following.\n",
    "# Usually, such modules are loaded in the first cell of a notebook.\n",
    "# The modules that we need concern loading the data and plotting\n",
    "# them later.\n",
    "\n",
    "# all plots should appear directly within the notebook\n",
    "%matplotlib inline\n",
    "\n",
    "# modules necessary for plotting\n",
    "import matplotlib.pyplot as plt\n",
    "\n",
    "# seaborn just makes plots look a bit nicer - not\n",
    "# absolutely necessary though.\n",
    "import seaborn as sns\n",
    "sns.set_style(\"whitegrid\")\n",
    "\n",
    "# modules to load the data. The Pandas module\n",
    "# is just needed for a quick data-loading demonstration at the\n",
    "# start of the Notebook. The corona_data module is self-made\n",
    "# to comfortably load and administrate the COVID-19 data.\n",
    "# To work correctly, a file named 'corona_data.py' must be\n",
    "# in the same directory as this notebook file!\n",
    "import pandas as pd\n",
    "import corona_data\n",
    "\n",
    "# module to make avilable data structures and routines\n",
    "# for numerics\n",
    "import numpy as np"
   ]
  },
  {
   "cell_type": "markdown",
   "metadata": {},
   "source": [
    "## Loading data"
   ]
  },
  {
   "cell_type": "markdown",
   "metadata": {},
   "source": [
    "### Data-loading demo with standard Python-modules"
   ]
  },
  {
   "cell_type": "markdown",
   "metadata": {},
   "source": [
    "One great feature of `Python` is the ability to load all kinds of standardised data-formats into memory - in most cases with a single command. The data can be located on your disk or on the Web. In the following, we directly load data from [this Web-address](https://opendata.ecdc.europa.eu/covid19/casedistribution/csv) (no need to separately download them)."
   ]
  },
  {
   "cell_type": "code",
   "execution_count": 2,
   "metadata": {},
   "outputs": [
    {
     "data": {
      "text/html": [
       "<div>\n",
       "<style scoped>\n",
       "    .dataframe tbody tr th:only-of-type {\n",
       "        vertical-align: middle;\n",
       "    }\n",
       "\n",
       "    .dataframe tbody tr th {\n",
       "        vertical-align: top;\n",
       "    }\n",
       "\n",
       "    .dataframe thead th {\n",
       "        text-align: right;\n",
       "    }\n",
       "</style>\n",
       "<table border=\"1\" class=\"dataframe\">\n",
       "  <thead>\n",
       "    <tr style=\"text-align: right;\">\n",
       "      <th></th>\n",
       "      <th>dateRep</th>\n",
       "      <th>day</th>\n",
       "      <th>month</th>\n",
       "      <th>year</th>\n",
       "      <th>cases</th>\n",
       "      <th>deaths</th>\n",
       "      <th>countriesAndTerritories</th>\n",
       "      <th>geoId</th>\n",
       "      <th>countryterritoryCode</th>\n",
       "      <th>popData2018</th>\n",
       "      <th>continentExp</th>\n",
       "    </tr>\n",
       "  </thead>\n",
       "  <tbody>\n",
       "    <tr>\n",
       "      <th>0</th>\n",
       "      <td>08/05/2020</td>\n",
       "      <td>8</td>\n",
       "      <td>5</td>\n",
       "      <td>2020</td>\n",
       "      <td>171</td>\n",
       "      <td>2</td>\n",
       "      <td>Afghanistan</td>\n",
       "      <td>AF</td>\n",
       "      <td>AFG</td>\n",
       "      <td>37172386.0</td>\n",
       "      <td>Asia</td>\n",
       "    </tr>\n",
       "    <tr>\n",
       "      <th>1</th>\n",
       "      <td>07/05/2020</td>\n",
       "      <td>7</td>\n",
       "      <td>5</td>\n",
       "      <td>2020</td>\n",
       "      <td>168</td>\n",
       "      <td>9</td>\n",
       "      <td>Afghanistan</td>\n",
       "      <td>AF</td>\n",
       "      <td>AFG</td>\n",
       "      <td>37172386.0</td>\n",
       "      <td>Asia</td>\n",
       "    </tr>\n",
       "    <tr>\n",
       "      <th>2</th>\n",
       "      <td>06/05/2020</td>\n",
       "      <td>6</td>\n",
       "      <td>5</td>\n",
       "      <td>2020</td>\n",
       "      <td>330</td>\n",
       "      <td>5</td>\n",
       "      <td>Afghanistan</td>\n",
       "      <td>AF</td>\n",
       "      <td>AFG</td>\n",
       "      <td>37172386.0</td>\n",
       "      <td>Asia</td>\n",
       "    </tr>\n",
       "    <tr>\n",
       "      <th>3</th>\n",
       "      <td>05/05/2020</td>\n",
       "      <td>5</td>\n",
       "      <td>5</td>\n",
       "      <td>2020</td>\n",
       "      <td>190</td>\n",
       "      <td>5</td>\n",
       "      <td>Afghanistan</td>\n",
       "      <td>AF</td>\n",
       "      <td>AFG</td>\n",
       "      <td>37172386.0</td>\n",
       "      <td>Asia</td>\n",
       "    </tr>\n",
       "    <tr>\n",
       "      <th>4</th>\n",
       "      <td>04/05/2020</td>\n",
       "      <td>4</td>\n",
       "      <td>5</td>\n",
       "      <td>2020</td>\n",
       "      <td>235</td>\n",
       "      <td>13</td>\n",
       "      <td>Afghanistan</td>\n",
       "      <td>AF</td>\n",
       "      <td>AFG</td>\n",
       "      <td>37172386.0</td>\n",
       "      <td>Asia</td>\n",
       "    </tr>\n",
       "    <tr>\n",
       "      <th>...</th>\n",
       "      <td>...</td>\n",
       "      <td>...</td>\n",
       "      <td>...</td>\n",
       "      <td>...</td>\n",
       "      <td>...</td>\n",
       "      <td>...</td>\n",
       "      <td>...</td>\n",
       "      <td>...</td>\n",
       "      <td>...</td>\n",
       "      <td>...</td>\n",
       "      <td>...</td>\n",
       "    </tr>\n",
       "    <tr>\n",
       "      <th>15693</th>\n",
       "      <td>25/03/2020</td>\n",
       "      <td>25</td>\n",
       "      <td>3</td>\n",
       "      <td>2020</td>\n",
       "      <td>0</td>\n",
       "      <td>0</td>\n",
       "      <td>Zimbabwe</td>\n",
       "      <td>ZW</td>\n",
       "      <td>ZWE</td>\n",
       "      <td>14439018.0</td>\n",
       "      <td>Africa</td>\n",
       "    </tr>\n",
       "    <tr>\n",
       "      <th>15694</th>\n",
       "      <td>24/03/2020</td>\n",
       "      <td>24</td>\n",
       "      <td>3</td>\n",
       "      <td>2020</td>\n",
       "      <td>0</td>\n",
       "      <td>1</td>\n",
       "      <td>Zimbabwe</td>\n",
       "      <td>ZW</td>\n",
       "      <td>ZWE</td>\n",
       "      <td>14439018.0</td>\n",
       "      <td>Africa</td>\n",
       "    </tr>\n",
       "    <tr>\n",
       "      <th>15695</th>\n",
       "      <td>23/03/2020</td>\n",
       "      <td>23</td>\n",
       "      <td>3</td>\n",
       "      <td>2020</td>\n",
       "      <td>0</td>\n",
       "      <td>0</td>\n",
       "      <td>Zimbabwe</td>\n",
       "      <td>ZW</td>\n",
       "      <td>ZWE</td>\n",
       "      <td>14439018.0</td>\n",
       "      <td>Africa</td>\n",
       "    </tr>\n",
       "    <tr>\n",
       "      <th>15696</th>\n",
       "      <td>22/03/2020</td>\n",
       "      <td>22</td>\n",
       "      <td>3</td>\n",
       "      <td>2020</td>\n",
       "      <td>1</td>\n",
       "      <td>0</td>\n",
       "      <td>Zimbabwe</td>\n",
       "      <td>ZW</td>\n",
       "      <td>ZWE</td>\n",
       "      <td>14439018.0</td>\n",
       "      <td>Africa</td>\n",
       "    </tr>\n",
       "    <tr>\n",
       "      <th>15697</th>\n",
       "      <td>21/03/2020</td>\n",
       "      <td>21</td>\n",
       "      <td>3</td>\n",
       "      <td>2020</td>\n",
       "      <td>1</td>\n",
       "      <td>0</td>\n",
       "      <td>Zimbabwe</td>\n",
       "      <td>ZW</td>\n",
       "      <td>ZWE</td>\n",
       "      <td>14439018.0</td>\n",
       "      <td>Africa</td>\n",
       "    </tr>\n",
       "  </tbody>\n",
       "</table>\n",
       "<p>15698 rows × 11 columns</p>\n",
       "</div>"
      ],
      "text/plain": [
       "          dateRep  day  month  year  cases  deaths countriesAndTerritories  \\\n",
       "0      08/05/2020    8      5  2020    171       2             Afghanistan   \n",
       "1      07/05/2020    7      5  2020    168       9             Afghanistan   \n",
       "2      06/05/2020    6      5  2020    330       5             Afghanistan   \n",
       "3      05/05/2020    5      5  2020    190       5             Afghanistan   \n",
       "4      04/05/2020    4      5  2020    235      13             Afghanistan   \n",
       "...           ...  ...    ...   ...    ...     ...                     ...   \n",
       "15693  25/03/2020   25      3  2020      0       0                Zimbabwe   \n",
       "15694  24/03/2020   24      3  2020      0       1                Zimbabwe   \n",
       "15695  23/03/2020   23      3  2020      0       0                Zimbabwe   \n",
       "15696  22/03/2020   22      3  2020      1       0                Zimbabwe   \n",
       "15697  21/03/2020   21      3  2020      1       0                Zimbabwe   \n",
       "\n",
       "      geoId countryterritoryCode  popData2018 continentExp  \n",
       "0        AF                  AFG   37172386.0         Asia  \n",
       "1        AF                  AFG   37172386.0         Asia  \n",
       "2        AF                  AFG   37172386.0         Asia  \n",
       "3        AF                  AFG   37172386.0         Asia  \n",
       "4        AF                  AFG   37172386.0         Asia  \n",
       "...     ...                  ...          ...          ...  \n",
       "15693    ZW                  ZWE   14439018.0       Africa  \n",
       "15694    ZW                  ZWE   14439018.0       Africa  \n",
       "15695    ZW                  ZWE   14439018.0       Africa  \n",
       "15696    ZW                  ZWE   14439018.0       Africa  \n",
       "15697    ZW                  ZWE   14439018.0       Africa  \n",
       "\n",
       "[15698 rows x 11 columns]"
      ]
     },
     "execution_count": 2,
     "metadata": {},
     "output_type": "execute_result"
    }
   ],
   "source": [
    "# load COVID-19 data from the WEB with the pandas-modult\n",
    "data = pd.read_csv('https://opendata.ecdc.europa.eu/covid19/casedistribution/csv/',\n",
    "                   engine=\"python\")\n",
    "\n",
    "# Uncomment the following line if you want to see all lines\n",
    "# (more than 15000) and not only 10:\n",
    "#pd.set_option('display.max_rows', None)\n",
    "data"
   ]
  },
  {
   "cell_type": "markdown",
   "metadata": {},
   "source": [
    "The data lists among other quantities:\n",
    "- first column (dateRep): (reported) date\n",
    "- fifth column (cases): new confirmed COVID-19 cases at that date\n",
    "- sixth column (deaths): new deaths because of COVID-19 at that date\n",
    "- seventh column (countriesAndTerritories): country"
   ]
  },
  {
   "cell_type": "markdown",
   "metadata": {},
   "source": [
    "The file lists all data from the 31st of December 2019 up to-date for all countries with known COVID-19 cases. Which countries are listed? Such information can be retrieved easily and quickly."
   ]
  },
  {
   "cell_type": "code",
   "execution_count": 3,
   "metadata": {},
   "outputs": [
    {
     "data": {
      "text/plain": [
       "['Afghanistan', 'Albania', 'Algeria', 'Andorra', 'Angola']"
      ]
     },
     "execution_count": 3,
     "metadata": {},
     "output_type": "execute_result"
    }
   ],
   "source": [
    "# list all countries reported in the data:\n",
    "#\n",
    "# The following line ensures that each country is reported once and that\n",
    "# the resulting list is sorted:\n",
    "countries = sorted((set(data['countriesAndTerritories'])))\n",
    "\n",
    "# we only print 5 countries as the list is very long. Just remove the brackets\n",
    "# if you want the full list:\n",
    "countries[0:5]"
   ]
  },
  {
   "cell_type": "markdown",
   "metadata": {},
   "source": [
    "### Data-loading for our project"
   ]
  },
  {
   "cell_type": "markdown",
   "metadata": {},
   "source": [
    "Although the above data-format can be used efficiently, it requires a longer sequence of commands to retrieve interesting time-sequence data for specific countries. Because we do not want to deal with those data-handling issues at the moment, I transfered this part of the code to a module `corona_data`. It reads the data and extracts the columns *cases* and *deaths* for a specific country. Furthermore, it removes all data before the 1st of March 2020. This date, we consider our *Day Zero* of the pandemy henceforth."
   ]
  },
  {
   "cell_type": "code",
   "execution_count": 4,
   "metadata": {},
   "outputs": [],
   "source": [
    "# first read all the data into an own Corona class structure. This only\n",
    "# needs to be done only once within this notebook!\n",
    "corona = corona_data.CoronaData()\n",
    "\n",
    "# The countries listed are accessed as member variable of the Corona class.\n",
    "# We do not need them immediately but it comes in handy for your own tasks\n",
    "# below.\n",
    "countries = corona.countries"
   ]
  },
  {
   "cell_type": "code",
   "execution_count": 22,
   "metadata": {},
   "outputs": [
    {
     "name": "stdout",
     "output_type": "stream",
     "text": [
      "[ 0  1  2  3  4  5  6  7  8  9 10 11 12 13 14 15 16 17 18 19 20 21 22 23\n",
      " 24 25 26 27 28 29 30 31 32 33 34 35 36 37 38 39 40 41 42 43 44 45 46 47\n",
      " 48 49 50 51 52 53 54 55 56 57 58 59 60 61 62 63 64 65 66 67 68]\n",
      "[  54   18   28   39   66  138  284  163   55  237  157  271  802  693\n",
      "  733 1043 1174 1144 1042 5940 4049 3276 3311 4438 2342 4954 5780 6294\n",
      " 3965 4751 4615 5453 6156 6174 6082 5936 3677 3834 4003 4974 5323 4133\n",
      " 2821 2537 2082 2486 2866 3380 3609 2458 1775 1785 2237 2352 2337 2055\n",
      " 1737 1018 1144 1304 1478    0 2584  793  679  685 1037 1194 1209]\n",
      "[  0   0   0   0   0   0   0   0   0   2   0   1   2   0   3   4   1   0\n",
      "   0  30   2  22  27  32  23  49  55  72  64  66 128 149 140 145 141 184\n",
      "  92 173 254 246 266 171 129 126 170 285 315 299 242 184 110 194 281 215\n",
      " 227 179 140 110 163 202 173   0 287  74  43 139 165 123 147]\n"
     ]
    }
   ],
   "source": [
    "# now isolate interesting data for a specific country\n",
    "country = 'Germany'\n",
    "\n",
    "# The structure 'corona[country]' contains a triple of numpy-arrays\n",
    "# with days, cases and deaths. We assign them to three variables\n",
    "# with 'simultaneous assignment'.\n",
    "day, cases, deaths = corona[country]\n",
    "\n",
    "print(day)\n",
    "print(cases)\n",
    "print(deaths)"
   ]
  },
  {
   "cell_type": "markdown",
   "metadata": {},
   "source": [
    "The three arrays have the following intuitive meaning: At day 0 (1st of March 2020), 54 new COVID-19 infections and zero new deaths were reported from Germany and so on. "
   ]
  },
  {
   "cell_type": "markdown",
   "metadata": {},
   "source": [
    "We now can make a first plot with the new cases against the day."
   ]
  },
  {
   "cell_type": "code",
   "execution_count": 6,
   "metadata": {},
   "outputs": [
    {
     "data": {
      "text/plain": [
       "Text(0.5, 1.0, 'Daily COVID-19 infections in Germany')"
      ]
     },
     "execution_count": 6,
     "metadata": {},
     "output_type": "execute_result"
    },
    {
     "data": {
      "image/png": "[encoded data removed]",
      "text/plain": [
       "<Figure size 432x288 with 1 Axes>"
      ]
     },
     "metadata": {
      "needs_background": "light"
     },
     "output_type": "display_data"
    }
   ],
   "source": [
    "# The following command alone is sufficient to create the plot\n",
    "plt.plot(day, cases)\n",
    "\n",
    "# The following commands label the axes and the plot\n",
    "plt.xlabel('day of COVID-19 pandemy')\n",
    "plt.ylabel('new COVID-19 cases')\n",
    "plt.title('Daily COVID-19 infections in Germany')"
   ]
  },
  {
   "cell_type": "markdown",
   "metadata": {},
   "source": [
    "## Your tasks"
   ]
  },
  {
   "cell_type": "markdown",
   "metadata": {},
   "source": [
    "**Note:** Please continue this notebook and do all the following tasks within that notebook. Please comment appropriately all code-blocks and perform the necessary discussions of your results in Markup cells. All plots must have appropriate axes-labels and a title! Your project submission will consist of the modified notebook."
   ]
  },
  {
   "cell_type": "markdown",
   "metadata": {},
   "source": [
    "The plot that we just created tells us that *new* infections have a decreasing trend. But to understand better the current state of the pandemy, we want to look at additional quantities.\n",
    "\n",
    "1. Plot the *total accumulated number* of COVID-19 cases against the day. Give a short discussion on that plot. What kind of curve do you expect for a pandemy that can spread freely?  What effect do the current measures and restrictions in Germany (e.g. social distancing) have on the curve? Discuss this with the knowledge that drastic limitations on our life (closure of schools etc.) took effect in Germany on the 16th of March. What will the curve look like when the pandemy is over?\n",
    "   \n",
    "   **Hint:** Have a look at the `numpy` `cumsum`-function.\n",
    "   \n",
    "2. A very important quantity to decide whether current measures to confine the pandemy can be relaxed is the *development of the number of people who still can infect others (the infectious population)*. The main purpose of all COVID-19 restrictions is to realise a decreasing trend of that number! This quantity can be obtained by *the number of infected people minus those who died and minus those who recovered from COVID-19*. It is implicitely assumed in the following that recovered patients are immune against COVID-19.\n",
    "\n",
    "   From the required information *only* the number of dead people is certain. The number of infected people is uncertain because we only have *reported* cases and we do not know how many people are infected but were not (yet) tested. Even more uncertain is the number of recovered patients and we entirely rely on an estimate for it. Furthermore, there are *many* definitions of *recoverd patients* around. The one coming closest to our procedure is the following: *A patient recovers if there are no symptoms 14-days after she was tested positively or after she left hospital.*\n",
    "   \n",
    "   Lacking further information, we define (overestimate) the number of recovered persons as follows: We consider everybody recovered who was positively tested more than 13-days ago and did not die.    \n",
    "   Given these assumptions, create a plot of the infectious population as a function of pandemy-day for Germany. Discuss that plot. Assuming, the government withdrew all CVID-19 restrictions today and people immediately behaved as before the crisis, how long would it take until the number of infectious patients reaches again its all-time maximum?\n",
    "   \n",
    "   **Hint:** `numpy` array-slicing!\n",
    "   \n",
    "3. Create a loop over all countries with confirmed COVID-19 cases - see the hint below. List those countries who currently still have a *raising* infectious population. Limit the analysis to countries with more than 5000 confirmed COVID-19 cases.\n",
    "\n",
    "   **Hint:** A raising infectious population means (for us) that the *derivative* of the plot from task (2) is positive today. \n",
    "   \n",
    "**Note:** I include sample plots for tasks 1 and 2 from the 28th of March to the materials of this project. This allows you to verify your solution.   "
   ]
  },
  {
   "cell_type": "code",
   "execution_count": 7,
   "metadata": {},
   "outputs": [
    {
     "data": {
      "text/plain": [
       "Text(0.5, 1.0, 'COVID-19 infections in Germany')"
      ]
     },
     "execution_count": 7,
     "metadata": {},
     "output_type": "execute_result"
    },
    {
     "data": {
      "image/png": "[encoded data removed]",
      "text/plain": [
       "<Figure size 432x288 with 1 Axes>"
      ]
     },
     "metadata": {
      "needs_background": "light"
     },
     "output_type": "display_data"
    }
   ],
   "source": [
    "# problem 1\n",
    "\n",
    "#calculate cummulated sum\n",
    "cum_cases=cases.cumsum()\n",
    "\n",
    "#plot cummulated sums against days\n",
    "plt.plot(day, cum_cases)\n",
    "\n",
    "# The following commands label the axes and the plot\n",
    "plt.xlabel('day of COVID-19 pandemy')\n",
    "plt.ylabel('total number of COVID-19 cases')\n",
    "plt.title('COVID-19 infections in Germany')\n",
    "\n",
    "#the plot first increased exponentially but then slowed down \n",
    "#freely propagated pandemic whould have exponential growth in total number of infections\n",
    "#since the loockdown the infections should increase slowlier than exponential, until it reaches the saturation and approximates a flat horizontal line when the pandemic is over."
   ]
  },
  {
   "cell_type": "code",
   "execution_count": 47,
   "metadata": {},
   "outputs": [
    {
     "name": "stdout",
     "output_type": "stream",
     "text": [
      "39\n"
     ]
    },
    {
     "data": {
      "image/png": "[encoded data removed]",
      "text/plain": [
       "<Figure size 432x288 with 1 Axes>"
      ]
     },
     "metadata": {
      "needs_background": "light"
     },
     "output_type": "display_data"
    }
   ],
   "source": [
    "#problem 2\n",
    "\n",
    "#total deaths\n",
    "cum_deaths=deaths.cumsum()\n",
    "\n",
    "#total recovered patients starting from day 14\n",
    "cum_recovered=cum_cases[:-14]-cum_deaths[14:]\n",
    "\n",
    "#total infectious starting from day 14\n",
    "cum_infectious=cum_cases[14:]-cum_recovered-cum_deaths[14:]\n",
    "\n",
    "#only starting from day 14\n",
    "day_cut=day[14:]\n",
    "\n",
    "plt.plot(day_cut, cum_infectious)\n",
    "\n",
    "# The following commands label the axes and the plot\n",
    "plt.xlabel('day of COVID-19 pandemy')\n",
    "plt.ylabel('total number of infectious patients')\n",
    "plt.title('COVID-19 infectious population in Germany')\n",
    "\n",
    "#calculate the day the maximum was reached\n",
    "max_day=day_cut[cum_infectious.argmax()]\n",
    "print(max_day)\n",
    "\n",
    "#on day 20 there is almost the exact same number of infectious people as that of today, and it took 39-20=19 days to reach maximum. therefore we approximate that it will take less than 19 days to reach that maximum again, since from day 20 to day 39 there was already the lockdown. \n"
   ]
  },
  {
   "cell_type": "code",
   "execution_count": 48,
   "metadata": {},
   "outputs": [
    {
     "name": "stdout",
     "output_type": "stream",
     "text": [
      "Algeria\n",
      "Argentina\n",
      "Australia\n",
      "Bangladesh\n",
      "Belarus\n",
      "Brazil\n",
      "Chile\n",
      "Colombia\n",
      "Czechia\n",
      "Dominican_Republic\n",
      "Ecuador\n",
      "Egypt\n",
      "India\n",
      "Iran\n",
      "Kuwait\n",
      "Mexico\n",
      "Pakistan\n",
      "Peru\n",
      "Philippines\n",
      "Portugal\n",
      "Qatar\n",
      "Romania\n",
      "Russia\n",
      "Saudi_Arabia\n",
      "South_Africa\n",
      "South_Korea\n",
      "Ukraine\n",
      "United_Kingdom\n",
      "United_States_of_America\n"
     ]
    }
   ],
   "source": [
    "# Hint to create a loop over all countries.\n",
    "#\n",
    "# The countries of known COVID-19 cases are stored in a so-called list.\n",
    "# A Python-list is, as the numpy-arrays, a container (in that case of strings)\n",
    "# whose elements can be accessed and iterated over in a very similar way:\n",
    "\n",
    "#define a function which gives the difference of the infectious number between the last day and the second last day \n",
    "def infectious_der(country):\n",
    "    #total cases\n",
    "    cum_ca=corona[country][1].cumsum()\n",
    "    #total deaths\n",
    "    cum_de=corona[country][2].cumsum()\n",
    "    #total recovered\n",
    "    cum_re=cum_ca[:-14]-cum_de[14:]\n",
    "    #total infectious\n",
    "    cum_in=cum_ca[14:]-cum_de[14:]-cum_re\n",
    "    #difference of the infectious number between the last day and the second last day\n",
    "    return cum_in[-1]-cum_in[-2]\n",
    "    \n",
    "for country in countries:\n",
    "    #select cases>5000\n",
    "    if corona[country][1].cumsum()[-1]>5000:\n",
    "        #select increasing infectious number\n",
    "        if infectious_der(country)>0:\n",
    "            print(country)\n",
    "            "
   ]
  },
  {
   "cell_type": "code",
   "execution_count": null,
   "metadata": {},
   "outputs": [],
   "source": []
  }
 ],
 "metadata": {
  "kernelspec": {
   "display_name": "Python 3",
   "language": "python",
   "name": "python3"
  },
  "language_info": {
   "codemirror_mode": {
    "name": "ipython",
    "version": 3
   },
   "file_extension": ".py",
   "mimetype": "text/x-python",
   "name": "python",
   "nbconvert_exporter": "python",
   "pygments_lexer": "ipython3",
   "version": "3.7.3"
  }
 },
 "nbformat": 4,
 "nbformat_minor": 4
}
