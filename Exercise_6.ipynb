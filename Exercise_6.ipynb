{
 "cells": [
  {
   "cell_type": "markdown",
   "metadata": {
    "deletable": false,
    "editable": false,
    "nbgrader": {
     "cell_type": "markdown",
     "checksum": "5998fd653f8e48ac2046bb3d6483726c",
     "grade": false,
     "grade_id": "cell-861f6651d6fc29a0",
     "locked": true,
     "schema_version": 3,
     "solution": false,
     "task": false
    }
   },
   "source": [
    "# Exercise 6"
   ]
  },
  {
   "cell_type": "markdown",
   "metadata": {
    "deletable": false,
    "editable": false,
    "nbgrader": {
     "cell_type": "markdown",
     "checksum": "06f51edf0ab46a018fbc55d67443aca8",
     "grade": false,
     "grade_id": "cell-c006a29f64d73a7e",
     "locked": true,
     "schema_version": 3,
     "solution": false,
     "task": false
    }
   },
   "source": [
    "## physics718: Programming in Physics and Astronomy with C++ or Python (SS 2020)\n",
    "Oliver Cordes & Thomas Erben"
   ]
  },
  {
   "cell_type": "markdown",
   "metadata": {
    "deletable": false,
    "editable": false,
    "nbgrader": {
     "cell_type": "markdown",
     "checksum": "3c041fd4a9ab5f220ad5cf42a159a9f0",
     "grade": false,
     "grade_id": "cell-3f92ebc86a0fa818",
     "locked": true,
     "schema_version": 3,
     "solution": false,
     "task": false
    }
   },
   "source": [
    "Homework is due on **Friday, 17/06/2020, 23:59pm**\n",
    "\n",
    " * You only learn a programming language by actively praticing and using it! We therefore **strongly** advise you to work on the homework problems.\n",
    " * Please discuss the problems with your student peers in case of problems.\n",
    " * Your code(s) needs to be well and appropriately commented!\n",
    " * All files of your solution should be in the same directory as this notebook including scripts, images, additional notebooks etc.\n",
    " * References to files in scripts and notebooks should be done with relative paths\n",
    " * Finally submit this notebook with your solutions in the nbgrader system\n",
    " \n",
    "**Main topics of this exercise:**\n",
    " * *numpy* 2d-arrays \n",
    " * animations with matplotlib\n",
    " * text files\n",
    " * python lists"
   ]
  },
  {
   "cell_type": "markdown",
   "metadata": {},
   "source": [
    "Put in here your group number: \n",
    "\n",
    "Group 26"
   ]
  },
  {
   "cell_type": "markdown",
   "metadata": {},
   "source": [
    "Since we have a discussion about the workload of homework exercises and projects, we need some feedback. Please write the amount of time you have spent for this homework, including repition of tutorial sessions exercises and videos for each person of your group.\n",
    "\n",
    "Spent time: \n",
    " * Member 1: 2 hours\n",
    " * Member 2: 1 hours\n",
    " * Member 3: 1 hours\n",
    " \n",
    "Please don't write your names! We just need the amount of hours!"
   ]
  },
  {
   "cell_type": "markdown",
   "metadata": {
    "deletable": false,
    "editable": false,
    "nbgrader": {
     "cell_type": "markdown",
     "checksum": "5ded431a9ab7f08d649dc37afcc41e54",
     "grade": false,
     "grade_id": "cell-fa8b0b89b191c50b",
     "locked": true,
     "schema_version": 3,
     "solution": false,
     "task": false
    }
   },
   "source": [
    "# 1. Thermal Conduction (in 2 dimensions) (30 Points)"
   ]
  },
  {
   "cell_type": "markdown",
   "metadata": {
    "deletable": false,
    "editable": false,
    "nbgrader": {
     "cell_type": "markdown",
     "checksum": "ef96c22ed1eff42250a6be9c336ef606",
     "grade": false,
     "grade_id": "cell-658158ab8f5e69c4",
     "locked": true,
     "schema_version": 3,
     "solution": false,
     "task": false
    }
   },
   "source": [
    "**Reminder**"
   ]
  },
  {
   "cell_type": "markdown",
   "metadata": {
    "deletable": false,
    "editable": false,
    "nbgrader": {
     "cell_type": "markdown",
     "checksum": "2b12e4e781d4c4c0bb94aff41182040e",
     "grade": false,
     "grade_id": "cell-10d1b2379b1a306e",
     "locked": true,
     "schema_version": 3,
     "solution": false,
     "task": false
    }
   },
   "source": [
    "In the previous Exercise sheet we covered the 1 dimensional thermal conduction. There, we discretized 1 dimensional length *x* by introducing a vector and computed the second spatial derivative using this vector *i.e.* ( $u'' = \\partial^2 u/\\partial x^2$) by:\n",
    "\n",
    "$${u'}_{i+1/2} \\approx \\frac{u_{i+1}-u_{i}}{h} \\qquad {u'}_{i-1/2} \\approx \\frac{u_{i}-u_{i-1}}{h}$$\n",
    "and obtained\n",
    "$${u''}_{i} \\approx \\frac{u_{i-1}-2 u_i + u_{i+1}}{h^2}. $$\n",
    "Similarly for the time discretization we introduced $ u_{t+\\Delta t} = u_{t} + \\Delta t \\cdot \\kappa^2 {u''_i}. $"
   ]
  },
  {
   "cell_type": "markdown",
   "metadata": {
    "deletable": false,
    "editable": false,
    "nbgrader": {
     "cell_type": "markdown",
     "checksum": "d515eb2c11636928778da6658e9cf2f8",
     "grade": false,
     "grade_id": "cell-b8c70118f396fbb7",
     "locked": true,
     "schema_version": 3,
     "solution": false,
     "task": false
    }
   },
   "source": [
    "## 1. 2-D Thermal Conduction"
   ]
  },
  {
   "cell_type": "markdown",
   "metadata": {
    "deletable": false,
    "editable": false,
    "nbgrader": {
     "cell_type": "markdown",
     "checksum": "1404a9d16340b2df555f7135be624113",
     "grade": false,
     "grade_id": "cell-47d2ef322f2fe510",
     "locked": true,
     "schema_version": 3,
     "solution": false,
     "task": false
    }
   },
   "source": [
    "For the 2-dimensional thermal conduction problem we can assume a plate which has a unit length of 1 in both $x$ and $y$ directions and constant zero temperature is applied from the all 4 sides. Then we follow the same discretization logic. The thermal distribution in this case can be written as:\n",
    "\n",
    "$$\\frac{\\partial u }{\\partial t} = \\kappa^2 \\Delta u $$\n",
    "\n",
    "with:\n",
    "\n",
    "$$\\Delta u = \\frac{\\partial^2 u}{\\partial x^2} + \\frac{\\partial^2 u}{\\partial y^2} $$\n",
    "\n",
    "If we are doing the same discretization with $N$ parts in $x$ and $y$ we can write our simulation equation now for any part with the indicess $i$ and $j$:\n",
    "\n",
    "$$ u_{t+\\Delta t,i,j} = u_{t,i,j} + \\Delta t \\cdot \\kappa^2 \\frac{u_{t,i-1,j} + u_{t,i+1,j} -4 u_{t,i,j}  + u_{t,i,j-1} + u_{t,i,j+1}}{h^2} $$\n",
    "\n",
    "The boundary conditions are now $u_{t,0,j} = u_{t,N-1,j} = u_{t,i,0} = u_{t,i,N-1} = 0$.\n",
    "\n",
    "\n",
    "The limits of the simulation can be given for a proper $\\Delta t < \\frac{h^2}{2\\kappa^2}$."
   ]
  },
  {
   "cell_type": "markdown",
   "metadata": {
    "deletable": false,
    "editable": false,
    "nbgrader": {
     "cell_type": "markdown",
     "checksum": "a9aba13cab03c54bbced5f21b1962584",
     "grade": false,
     "grade_id": "cell-45dd4a12f40b709b",
     "locked": true,
     "schema_version": 3,
     "solution": false,
     "task": false
    }
   },
   "source": [
    "Similar to the 1d thermal conduction we can define one initial condition:\n",
    "\n",
    "$$u(x,y,0) = \\sin(\\pi x) \\sin(\\pi y) $$ for which we know the exact solution:\n",
    "\n",
    "$$u(x,y, t) = \\sin(\\pi x)\\sin(\\pi y) \\textrm{e}^{-\\kappa^2 \\pi^2 t}$$\n",
    "\n"
   ]
  },
  {
   "cell_type": "markdown",
   "metadata": {
    "deletable": false,
    "editable": false,
    "nbgrader": {
     "cell_type": "markdown",
     "checksum": "b3a3bdbe12cee79baee2b177691bc54c",
     "grade": false,
     "grade_id": "cell-b9e71b6a64ae0f25",
     "locked": true,
     "schema_version": 3,
     "solution": false,
     "task": false
    }
   },
   "source": [
    "**Your task**:"
   ]
  },
  {
   "cell_type": "markdown",
   "metadata": {
    "deletable": false,
    "editable": false,
    "nbgrader": {
     "cell_type": "markdown",
     "checksum": "94ee2e6db1254701a58d4f9cbef0580a",
     "grade": false,
     "grade_id": "cell-71dee3d8b16afc06",
     "locked": true,
     "schema_version": 3,
     "solution": false,
     "task": false
    }
   },
   "source": [
    "Your task is to implement a simulation (re-evaluation of the values at different time steps) of a metal plate using a 2D *numpy* array with $N\\times N$ with $N=32$ elements. You should setup the given initial conditions *i.e.* the temperature should be constant and equal to 0 at all times. <br>\n",
    "Write again function *update_time* that takes a 2-D numpy array, $\\kappa$ and $\\Delta t$ values as inputs and computes the heat equation at $t+\\Delta t$. The function again don't need a return value since you can modify the numpy array in place.\n",
    "\n",
    "To prove again your function, you can run the *update_time* function for 10000 times ($\\kappa = 1$ and $\\Delta t = 0.0001$) and divide your result with the initial condition. Compare these results array with the output of the exponential part of the exact solution. The result should exactly the same as for the 1d thermal conduction."
   ]
  },
  {
   "cell_type": "markdown",
   "metadata": {
    "deletable": false,
    "editable": false,
    "nbgrader": {
     "cell_type": "markdown",
     "checksum": "a868ecd32bea8ac6b1a164cf77f71af6",
     "grade": false,
     "grade_id": "cell-f73b342682d47655",
     "locked": true,
     "schema_version": 3,
     "solution": false,
     "task": false
    }
   },
   "source": [
    "For the task we need to iniate a grid with the given 2-D function. Numpy offers a function *meshgrid* that allows creating such grids. Using *meshgrid* one can first generate two seperate grids $xx$ and $yy$ which are the 2-D extensions of the 1-D vectors $x$ and $y$ and obtain the desired grid values by multiplying those matricies. The following code explains the usage of *meshgrid* by creating a multiplication table for values from 1 to 10:"
   ]
  },
  {
   "cell_type": "code",
   "execution_count": 2,
   "metadata": {},
   "outputs": [
    {
     "name": "stdout",
     "output_type": "stream",
     "text": [
      "[[ 1  2  3  4  5  6  7  8  9 10]\n",
      " [ 1  2  3  4  5  6  7  8  9 10]\n",
      " [ 1  2  3  4  5  6  7  8  9 10]\n",
      " [ 1  2  3  4  5  6  7  8  9 10]\n",
      " [ 1  2  3  4  5  6  7  8  9 10]\n",
      " [ 1  2  3  4  5  6  7  8  9 10]\n",
      " [ 1  2  3  4  5  6  7  8  9 10]\n",
      " [ 1  2  3  4  5  6  7  8  9 10]\n",
      " [ 1  2  3  4  5  6  7  8  9 10]\n",
      " [ 1  2  3  4  5  6  7  8  9 10]]\n",
      "[[ 1  1  1  1  1  1  1  1  1  1]\n",
      " [ 2  2  2  2  2  2  2  2  2  2]\n",
      " [ 3  3  3  3  3  3  3  3  3  3]\n",
      " [ 4  4  4  4  4  4  4  4  4  4]\n",
      " [ 5  5  5  5  5  5  5  5  5  5]\n",
      " [ 6  6  6  6  6  6  6  6  6  6]\n",
      " [ 7  7  7  7  7  7  7  7  7  7]\n",
      " [ 8  8  8  8  8  8  8  8  8  8]\n",
      " [ 9  9  9  9  9  9  9  9  9  9]\n",
      " [10 10 10 10 10 10 10 10 10 10]]\n",
      "[[  1   2   3   4   5   6   7   8   9  10]\n",
      " [  2   4   6   8  10  12  14  16  18  20]\n",
      " [  3   6   9  12  15  18  21  24  27  30]\n",
      " [  4   8  12  16  20  24  28  32  36  40]\n",
      " [  5  10  15  20  25  30  35  40  45  50]\n",
      " [  6  12  18  24  30  36  42  48  54  60]\n",
      " [  7  14  21  28  35  42  49  56  63  70]\n",
      " [  8  16  24  32  40  48  56  64  72  80]\n",
      " [  9  18  27  36  45  54  63  72  81  90]\n",
      " [ 10  20  30  40  50  60  70  80  90 100]]\n"
     ]
    }
   ],
   "source": [
    "import numpy as np\n",
    "\n",
    "vector = np.arange(1,11)                           # create a 1d vector with the numbers from 1 to 10\n",
    "\n",
    "# extend the vectors to a meshgrid\n",
    "xx, yy = np.meshgrid(vector, vector)\n",
    "\n",
    "print(xx)                                          # 10 x 10 version of x vector\n",
    "print(yy)                                          # Notice for yy it is the transpose of these values\n",
    "\n",
    "# multiply both vectors\n",
    "matrix = xx * yy\n",
    "print(matrix)"
   ]
  },
  {
   "cell_type": "markdown",
   "metadata": {
    "deletable": false,
    "editable": false,
    "nbgrader": {
     "cell_type": "markdown",
     "checksum": "170be9767bacac4c9493523adfec774d",
     "grade": false,
     "grade_id": "cell-6bb701f731a02254",
     "locked": true,
     "schema_version": 3,
     "solution": false,
     "task": false
    }
   },
   "source": [
    "You can create your initial grid with this method and update it with a function call."
   ]
  },
  {
   "cell_type": "code",
   "execution_count": 3,
   "metadata": {
    "deletable": false,
    "nbgrader": {
     "cell_type": "code",
     "checksum": "a313503c167f6a132bf210b7c7765a7e",
     "grade": false,
     "grade_id": "cell-6b33353e003726a9",
     "locked": false,
     "schema_version": 3,
     "solution": true,
     "task": false
    }
   },
   "outputs": [
    {
     "name": "stderr",
     "output_type": "stream",
     "text": [
      "/opt/conda/lib/python3.7/site-packages/ipykernel_launcher.py:48: RuntimeWarning: invalid value encountered in true_divide\n"
     ]
    },
    {
     "data": {
      "image/png": "[encoded data removed]",
      "text/plain": [
       "<Figure size 432x288 with 1 Axes>"
      ]
     },
     "metadata": {
      "needs_background": "light"
     },
     "output_type": "display_data"
    }
   ],
   "source": [
    "import numpy as np\n",
    "import matplotlib.pyplot as plt\n",
    "%matplotlib inline\n",
    "\n",
    "#define a function that update the heat_grid\n",
    "def update_time(grid, kappa, deltat):\n",
    "    \n",
    "    #interior of the heat grid\n",
    "    middle = grid[1:-1,1:-1]\n",
    "    \n",
    "    #shifted in four directions\n",
    "    left=grid[1:-1,:-2]\n",
    "    right=grid[1:-1,2:]\n",
    "    up=grid[:-2,1:-1]\n",
    "    down=grid[2:,1:-1]\n",
    "    \n",
    "    #update the interior of the grid, the boundary is left unchanged\n",
    "    grid[1:-1,1:-1]=middle+deltat*(kappa**2)*(left+right+up+down-4*middle)/(h**2)\n",
    "    return\n",
    "        \n",
    "        \n",
    "# main program\n",
    "# YOUR CODE HERE\n",
    "\n",
    "#initialize values\n",
    "N=32\n",
    "h=1/(N-1)\n",
    "kappa=1\n",
    "deltat=0.0001\n",
    "\n",
    "#set up an 1d-vector that has the value sin(\\pi h i) for i from 0 to N-1\n",
    "vector = np.sin(np.arange(N)*h*np.pi)\n",
    "vector[-1]=0\n",
    "\n",
    "#meshgrid to create the desired heat grid\n",
    "xx, yy = np.meshgrid(vector, vector)\n",
    "initial_grid= xx*yy\n",
    "heat_grid=xx*yy\n",
    "\n",
    "#initialize mean value array for each time step\n",
    "mean=np.zeros(10000)\n",
    "\n",
    "#update 10000 times\n",
    "for i in range(10000):\n",
    "    update_time(heat_grid, kappa, deltat)   \n",
    "    \n",
    "    #divide by inital grid\n",
    "    scaled=heat_grid/initial_grid\n",
    "    \n",
    "    #calculate mean value of the interior of the scaled grid, put it in the mean value array\n",
    "    mean[i]=scaled[1:-1,1:-1].mean()\n",
    "\n",
    "#time array\n",
    "time=(np.arange(10000)+1)/10000\n",
    "\n",
    "#exact solution\n",
    "exact=np.exp(-2*(kappa**2)*(np.pi**2)*time)\n",
    "\n",
    "#plot exact and simulated solutions\n",
    "p1=plt.plot(time,exact,color='green',label='exact solution')\n",
    "p2=plt.plot(time,mean,color='red',label='simulations')\n",
    "\n",
    "#show legend and axis labels\n",
    "plt.legend()\n",
    "plt.xlabel('time')\n",
    "plt.ylabel('scaled mean value')\n",
    "plt.show(p1,p2)\n",
    "\n",
    "\n"
   ]
  },
  {
   "cell_type": "markdown",
   "metadata": {},
   "source": [
    "nbgrader tests"
   ]
  },
  {
   "cell_type": "code",
   "execution_count": 4,
   "metadata": {
    "deletable": false,
    "editable": false,
    "nbgrader": {
     "cell_type": "code",
     "checksum": "414a6195a3830bf4ab9e9cadab9e555c",
     "grade": true,
     "grade_id": "cell-3f294543ab1976cc",
     "locked": true,
     "points": 10,
     "schema_version": 3,
     "solution": false,
     "task": false
    }
   },
   "outputs": [],
   "source": [
    "N = 11\n",
    "heat_grid = np.zeros((N,N), dtype=np.float64)\n",
    "\n",
    "# set initial values\n",
    "heat_grid[N//2,N//2] = 1.\n",
    "# print(heat_grid)\n",
    "\n",
    "kappa = 1.\n",
    "deltat= 0.0001\n",
    "\n",
    "for i in range(5000):\n",
    "    update_time(heat_grid, kappa, deltat)\n",
    "\n",
    "assert(np.abs(np.exp(-2.*((np.pi)**2)*deltat*5000)-heat_grid[N//2,N//2]) < 1e-4)"
   ]
  },
  {
   "cell_type": "markdown",
   "metadata": {
    "deletable": false,
    "editable": false,
    "nbgrader": {
     "cell_type": "markdown",
     "checksum": "4405ba78fc5ac94563162d811d387a1b",
     "grade": false,
     "grade_id": "cell-4b1431860de2ee99",
     "locked": true,
     "schema_version": 3,
     "solution": false,
     "task": false
    }
   },
   "source": [
    "## 2. External sources"
   ]
  },
  {
   "cell_type": "markdown",
   "metadata": {
    "deletable": false,
    "editable": false,
    "nbgrader": {
     "cell_type": "markdown",
     "checksum": "058bb721de393f52edee49404290ff0e",
     "grade": false,
     "grade_id": "cell-a952b7327efb97fa",
     "locked": true,
     "schema_version": 3,
     "solution": false,
     "task": false
    }
   },
   "source": [
    "The given equations are useful for relaxing processes without any additional external sources. External heat sources $f(x,t)$ can be added on the right side of the equations:\n",
    "\n",
    "$$\\frac{\\partial u }{\\partial t} = \\kappa^2 \\Delta u + f(x,t) $$\n",
    "\n",
    "and for the discrete solution:\n",
    "\n",
    "$$ u_{t+1,i,j} = u_{t,i,j} + \\Delta t \\cdot \\kappa^2 \\frac{u_{t,i-1,j} + u_{t,i+1,j} -4 u_{t,i,j}  + u_{t,i,j-1} + u_{t,i,j+1}}{h^2} + f_{t,i,j} $$"
   ]
  },
  {
   "cell_type": "markdown",
   "metadata": {
    "deletable": false,
    "editable": false,
    "nbgrader": {
     "cell_type": "markdown",
     "checksum": "8bb9473ef3fad4ea2d8e4ab33553f15b",
     "grade": false,
     "grade_id": "cell-3ecdc743f5f4f385",
     "locked": true,
     "schema_version": 3,
     "solution": false,
     "task": false
    }
   },
   "source": [
    "For this task we want to simulate constant external sources at certain discrete positions. Our external sources will be represented by a list of $M$ points $P_i = [x_i, y_i, v_i]$ with $i=0...M-1$ and $x_i$ and $y_i$ the discrete coordinates of this point and $v_i$ the constant value to set. At these positions we keep the values at *v_i* at all times by setting it to the same value after every time step.\n",
    "This *pumps* heat into our simulated plate. Since the borders are set to zero the heat is more or less vanishing at the border. And after certain steps we will gain an equilibrium in our thermal distribution, if the external sources have a limit, which means a certain amount of energy per time unit!"
   ]
  },
  {
   "cell_type": "markdown",
   "metadata": {
    "deletable": false,
    "editable": false,
    "nbgrader": {
     "cell_type": "markdown",
     "checksum": "8855c5bf177e4797913c19879e23e92d",
     "grade": false,
     "grade_id": "cell-2cb0d9830a03f197",
     "locked": true,
     "schema_version": 3,
     "solution": false,
     "task": false
    }
   },
   "source": [
    "**Your task**:\n",
    "\n",
    "* write a function *init_heat_grid* in which you put in some external heat sources, the function should take the grid, the list of points as described as parameters *i.e.*  $P_i = [x_i, y_i, v_i]$. Points are not allowed to be on the border of the grid, because \n",
    "the border should be zero for all times. Ignore these unwanted points.\n",
    "* extend your previous defined function *update_time* to a new function *update_time_points*, now allowing it to take the list of points as an additional parameter. The job of the function is the same as before but you should add the external sources after the calculation step. \n",
    "* run the simulation for a $N\\times N$ grid ($N=32$) with a single external source in the middle of the grid with a value of 10 until you reach an equilibrium. <br>Print out the numbers of iterations and create a plot with the final heat distribution. You can use the same $\\kappa$ and $\\Delta t$ values as before.\n",
    "\n",
    "**Hints**:\n",
    "* the Points can be used as a list of lists with each sub-list having  $x$, $y$ and $v$.\n",
    "* You can test for the equilibrium, by summing the difference between the each point of the grid and the grid from the previous step. This sum should be smaller than 1e-4\n",
    "* for plotting the final distribution use *plt.imshow* and *plt.colorbar* (have a look at these functions and choose a proper colormap!)"
   ]
  },
  {
   "cell_type": "code",
   "execution_count": 5,
   "metadata": {
    "deletable": false,
    "nbgrader": {
     "cell_type": "code",
     "checksum": "fc4617d256bbc93e4029419dcba0933d",
     "grade": false,
     "grade_id": "cell-cbdcbb1c040a88de",
     "locked": false,
     "schema_version": 3,
     "solution": true,
     "task": false
    }
   },
   "outputs": [
    {
     "name": "stdout",
     "output_type": "stream",
     "text": [
      "3636\n"
     ]
    },
    {
     "data": {
      "image/png": "[encoded data removed]",
      "text/plain": [
       "<Figure size 432x288 with 2 Axes>"
      ]
     },
     "metadata": {
      "needs_background": "light"
     },
     "output_type": "display_data"
    }
   ],
   "source": [
    "import numpy as np\n",
    "import matplotlib.pyplot as plt\n",
    "%matplotlib inline\n",
    "\n",
    "#define a function that put external heat sources into the grid\n",
    "def init_heat_grid(grid, point):\n",
    "    \n",
    "    #loop through each point in the set of points\n",
    "    for i in range(len(point)):\n",
    "        \n",
    "        #find x and y coordinates of the point\n",
    "        x=point[i][0]\n",
    "        y=point[i][1]\n",
    "        \n",
    "        #ignore points on the boundary\n",
    "        if (x!=0) & (x!=(N-1)) & (y!=0) & (y!=(N-1)):\n",
    "            \n",
    "            #set grid point to external constant temperature\n",
    "            grid[x,y] = point[i][2]\n",
    "    return\n",
    "\n",
    "#define a function that update the grid with constant temperature sources\n",
    "def update_time_points(grid1, kappa, deltat, point):\n",
    "    \n",
    "    #same as before\n",
    "    middle = grid1[1:-1,1:-1]\n",
    "    left=grid1[1:-1,:-2]\n",
    "    right=grid1[1:-1,2:]\n",
    "    up=grid1[:-2,1:-1]\n",
    "    down=grid1[2:,1:-1]\n",
    "    grid1[1:-1,1:-1]=middle+deltat*(kappa**2)*(left+right+up+down-4*middle)/(h**2)\n",
    "    \n",
    "    #set constant value to the external sources\n",
    "    init_heat_grid(grid1,point)\n",
    "    return\n",
    "\n",
    "#initialize values\n",
    "N=32\n",
    "h=1/(N-1)\n",
    "kappa = 1\n",
    "deltat=0.0001\n",
    "\n",
    "#create a heat grid\n",
    "vector = np.sin(np.arange(N)*h*np.pi)\n",
    "vector[-1]=0\n",
    "\n",
    "xx, yy = np.meshgrid(vector, vector)\n",
    "initial_grid= xx*yy\n",
    "heat_grid=xx*yy\n",
    "\n",
    "#set external heat source to be in the middle            \n",
    "points = [[N//2,N//2,10]]\n",
    "\n",
    "#put it in the heat grid\n",
    "init_heat_grid(heat_grid, points)\n",
    "\n",
    "#store the initial grid to the temporary variable last_grid\n",
    "last_grid=np.copy(heat_grid)\n",
    "\n",
    "#update the heat grid and count interation 1\n",
    "update_time_points(heat_grid, kappa, deltat, points)\n",
    "iteration=1\n",
    "\n",
    "#while loop, stop when the differences sum up to a value smaller than 10^(-4)\n",
    "while np.sum(np.abs(heat_grid-last_grid))>10**(-4):\n",
    "    \n",
    "    #store the initial grid to the temporary variable last_grid\n",
    "    last_grid=np.copy(heat_grid)\n",
    "    \n",
    "    #update and add 1 to interation\n",
    "    update_time_points(heat_grid, kappa, deltat, points)\n",
    "    iteration=iteration+1\n",
    "    \n",
    "#print iterations\n",
    "print(iteration)\n",
    "\n",
    "#show equilibrium plot with color bar\n",
    "plt.imshow(heat_grid)\n",
    "plt.colorbar()\n",
    "plt.show()\n",
    "    \n",
    "    \n",
    "\n"
   ]
  },
  {
   "cell_type": "markdown",
   "metadata": {
    "deletable": false,
    "editable": false,
    "nbgrader": {
     "cell_type": "markdown",
     "checksum": "208d706e47ae5bbf026402a35ef8cea5",
     "grade": false,
     "grade_id": "cell-07c2a77e305db10f",
     "locked": true,
     "schema_version": 3,
     "solution": false,
     "task": false
    }
   },
   "source": [
    "nbgrader tests"
   ]
  },
  {
   "cell_type": "code",
   "execution_count": 6,
   "metadata": {
    "deletable": false,
    "editable": false,
    "nbgrader": {
     "cell_type": "code",
     "checksum": "00afd0f950de31e8c421839f88227d97",
     "grade": true,
     "grade_id": "cell-25f80b9d83b4cb59",
     "locked": true,
     "points": 10,
     "schema_version": 3,
     "solution": false,
     "task": false
    }
   },
   "outputs": [],
   "source": [
    "# initials\n",
    "N = 7\n",
    "heat_grid = np.zeros((N,N), dtype=np.float64)\n",
    "\n",
    "points = [[N//3, N//3, 20], [N//3,2*N//3, 20], [2*N//3,N//3,20], [2*N//3,2*N//3,20]]\n",
    "\n",
    "init_heat_grid(heat_grid, points)\n",
    "\n",
    "assert(heat_grid[2,2] == 20.)\n",
    "assert(heat_grid[2,4] == 20.)\n",
    "assert(heat_grid[4,2] == 20.)\n",
    "assert(heat_grid[4,4] == 20.)\n",
    "\n",
    "heat_grid = np.zeros((N,N), dtype=np.float64)\n",
    "\n",
    "points = [[0,0,20], [N-1,N-1,20]]\n",
    "init_heat_grid(heat_grid, points)\n",
    "assert(heat_grid[0,0] == 0.)\n",
    "assert(heat_grid[N-1,N-1] == 0.)"
   ]
  },
  {
   "cell_type": "markdown",
   "metadata": {
    "deletable": false,
    "editable": false,
    "nbgrader": {
     "cell_type": "markdown",
     "checksum": "7a351080cb381b6a0a75ae4895c6ecb3",
     "grade": false,
     "grade_id": "cell-6e22fb978b3dce1a",
     "locked": true,
     "schema_version": 3,
     "solution": false,
     "task": false
    }
   },
   "source": [
    "## 3. Animation"
   ]
  },
  {
   "cell_type": "markdown",
   "metadata": {
    "deletable": false,
    "editable": false,
    "nbgrader": {
     "cell_type": "markdown",
     "checksum": "777ae13bd21db22f7a6f363a4c3a6033",
     "grade": false,
     "grade_id": "cell-79f82f61cdb9c438",
     "locked": true,
     "schema_version": 3,
     "solution": false,
     "task": false
    }
   },
   "source": [
    "After we have done some initial setups we can go on with the animation. For this task we can use the widget ```clear_output``` from ```IPython.display``` package. Making use of this function, we will create heatmaps at each time step and clear the previous frame which will lead to a nice continues flow of images. <br>\n",
    "\n",
    "**The Code Recipe:**\n",
    "\n",
    "We are going to use the functions from the previous exercises to place heat sources at desired points on the grid. <br>\n",
    "We need to write a function that; \n",
    "- Clears any previous image\n",
    "- Creates a figure that is large enough to display nice images.\n",
    "- Should take ```heat_grid``` data, ```kappa```, ```deltat``` and an array with the external source locations on the grid.\n",
    "- Displays the data with proper axis, labels, colorbar etc.\n",
    "- After the display, the function should update the time step by calling the proper function as in previous tasks.\n",
    "\n",
    "Later, create points to place external sources. Initiate the grid with proper setup. \n",
    "\n",
    "**Your tasks**:\n",
    "* Write a function ```animate_frame``` following the recipe.\n",
    "* Setup three different sets of external sources, one with 2 and one with 4 points placed symmetrically in the center. The third set is left to your choice for experimenting. \n",
    "* Call your function for 50 times and display the animation.\n",
    "* Try different point set and enjoy!\n",
    "\n",
    "**Hints**:\n",
    "\n",
    " * For tests you can use also different combinations for *kappa* and *timestep*. The whole simulation is only working if the change from frame to frame is small due to the discretization of the plate and time. If kappa multiplied by timestep is too large, then you will see no proper simulation but a rather oscillating state which has nothing to do with reality! Set $\\kappa=1$, $N=32\\times32$ and choose a time step of $\\Delta t=0.0001$ for the proper results.\n",
    " * You can create a figure with ```matplotlib.pyplot.figure()``` and adjust the figure size with its arguments.\n",
    " * Explore the different colormaps and choose a proper one for displaying such experiment.\n",
    " * Explore the ```matplotlib.pyplot.imshow``` arguments. ```vmin, vmax``` are useful for constraining the colorbar colors."
   ]
  },
  {
   "cell_type": "code",
   "execution_count": null,
   "metadata": {
    "deletable": false,
    "nbgrader": {
     "cell_type": "code",
     "checksum": "fff3aa0f9e862c346aa77602c97b142e",
     "grade": true,
     "grade_id": "cell-80bbd8319840d3c3",
     "locked": false,
     "points": 10,
     "schema_version": 3,
     "solution": true,
     "task": false
    }
   },
   "outputs": [
    {
     "data": {
      "image/png": "[encoded data removed]",
      "text/plain": [
       "<Figure size 720x720 with 2 Axes>"
      ]
     },
     "metadata": {
      "needs_background": "light"
     },
     "output_type": "display_data"
    }
   ],
   "source": [
    "import matplotlib.pyplot as plt\n",
    "import numpy as np\n",
    "from IPython.display import clear_output\n",
    "\n",
    "#define a function that clears previous output, creates a figure, shows the color plot and then updates the heat grid.\n",
    "def animate_frame(grid, kappa, deltat, point):\n",
    "    \n",
    "    #clear output with wait function to minimize lapses\n",
    "    clear_output(wait=True)\n",
    "    \n",
    "    #create figure with size (10,10)\n",
    "    plt.figure(figsize=(10, 10))\n",
    "    \n",
    "    #color plot of the heat grid\n",
    "    plt.imshow(grid,origin='upper')\n",
    "    \n",
    "    #shows title with the number of external sources\n",
    "    plt.title('Animation with {} external heat sources'.format(len(point)))\n",
    "    \n",
    "    #show color bar\n",
    "    plt.colorbar()\n",
    "    plt.show()\n",
    "    \n",
    "    #update the heat grid\n",
    "    update_time_points(grid, kappa, deltat, point)\n",
    "    return\n",
    "\n",
    "# main program\n",
    "# YOUR CODE HERE\n",
    "\n",
    "#initialize values, three sets of points\n",
    "N=32\n",
    "points1=[[10,10,10],[22,22,10]]\n",
    "points2=[[10,10,10],[22,22,10],[10,22,10],[22,10,10]]\n",
    "points3=[[10,10,10]]\n",
    "\n",
    "#initialize heat grid with all zeros\n",
    "heat_grid=np.zeros((N,N))\n",
    "\n",
    "#put the external sources into the grid, here we choose the second set of points\n",
    "init_heat_grid(heat_grid, points2)\n",
    "\n",
    "#update 50 times to produce animation\n",
    "for k in range(50):\n",
    "    animate_frame(heat_grid, kappa, deltat, points2)\n",
    "    \n",
    "    "
   ]
  },
  {
   "cell_type": "markdown",
   "metadata": {
    "deletable": false,
    "editable": false,
    "nbgrader": {
     "cell_type": "markdown",
     "checksum": "13801e0738c3e9e094ca18bc2f43317c",
     "grade": false,
     "grade_id": "cell-eb33289c019d0519",
     "locked": true,
     "schema_version": 3,
     "solution": false,
     "task": false
    }
   },
   "source": [
    "# 2. Word doubling (20 Points)"
   ]
  },
  {
   "cell_type": "markdown",
   "metadata": {
    "deletable": false,
    "editable": false,
    "nbgrader": {
     "cell_type": "markdown",
     "checksum": "f9212b5a633e65a670b97b0b71a91c09",
     "grade": false,
     "grade_id": "cell-ae162872683a25cc",
     "locked": true,
     "schema_version": 3,
     "solution": false,
     "task": false
    }
   },
   "source": [
    "When writing a text, we often make the mistake to repeat a word.\n",
    "\n",
    "   ```\n",
    "   When typing longer texts, we often often make the mistake to\n",
    "   repeat individual words such as here here.\n",
    "\n",
    "   ```\n",
    "   \n",
    "Write a program in a notebook cell which reads a text file and marks positions with such mistakes. You should print lines and linenumbers with double words. Consider also cases where a word doubling occurs directly before and after a line break.\n",
    "\n",
    "You can find a short example text for test purposes [here](double_words.txt).\n",
    "\n",
    "**Note:**\n",
    "An obvious ansatz for the problem is to read a line, to split it according to spaces, tabulators and line breaks and to perform the double word test. This, however is no complete solution to the problem! Consider again the above example:\n",
    "\n",
    "   ```\n",
    "   ... such as here here.\n",
    "   ```\n",
    "   \n",
    "The double word `here` would not be recognised because the second one is directly followed by a dot (end of sentence mark). There are similar issues with other punctuation marks such as semicolons, parentheses and so on. See the following cell for a possibility to take this into account.\n",
    "\n",
    "**Example:** The [example text](double_words.txt) gives the follwing output with my code:\n",
    "```\n",
    "Repetition in line 1. Word \"often\" at position 6!\n",
    "Repetition in line 2. Word \"here\" at position 6!\n",
    "Repetition of the first word \"words\" on line 5. It occured at the end of the previous (non-empty) line!\n",
    "Repetition of the first word \"test\" on line 9. It occured at the end of the previous (non-empty) line!\n",
    "\n",
    "```\n",
    "\n",
    "**Hints**: \n",
    "\n",
    "We had introduced regular expressions in the tutorial sessions, which can be used from the Python module ```re```. Using regular expressions can help to split a given string into word avoiding to have punctuations and other non wanted characters in the results."
   ]
  },
  {
   "cell_type": "code",
   "execution_count": 57,
   "metadata": {
    "deletable": false,
    "nbgrader": {
     "cell_type": "code",
     "checksum": "8bbdf4b38ddf3974809592ddb7827695",
     "grade": true,
     "grade_id": "cell-332054d1cff4ac24",
     "locked": false,
     "points": 20,
     "schema_version": 3,
     "solution": true,
     "task": false
    }
   },
   "outputs": [
    {
     "name": "stdout",
     "output_type": "stream",
     "text": [
      "Repetition in line 1. Word \"often\" at position 6!\n",
      "Repetition in line 2. Word \"here\" at position 6!\n",
      "Repetition of the first word \"words\" on line 5. It occured at the end of the previous (non-empty) line!\n",
      "Repetition of the first word \"test\" on line 9. It occured at the end of the previous (non-empty) line!\n"
     ]
    }
   ],
   "source": [
    "import re  # for the regular expressions\n",
    "\n",
    "# YOUR CODE HERE\n",
    "\n",
    "#read the txt file into text\n",
    "text=open('double_words.txt','r').read()\n",
    "\n",
    "#separete the text by line breaks and put each line as a string into a list\n",
    "lines=re.split('\\n',text)\n",
    "\n",
    "#initialize two empty lists to store the start and end words of each line\n",
    "start_words=[]\n",
    "end_words=[]\n",
    "\n",
    "#loop through each line\n",
    "for i in range(len(lines)):\n",
    "    \n",
    "    #split the string by space into words and put each word into a list\n",
    "    words=re.split('\\s',lines[i])\n",
    "    \n",
    "    #initialize an empty list to store words without punctuations\n",
    "    new_words=[]\n",
    "    \n",
    "    #loop through each word to strip out punctuations\n",
    "    for word in words:\n",
    "        \n",
    "        #eliminate punctuations and put the new word into the list new_words\n",
    "        w=re.sub(r'[^\\w]','',word)\n",
    "        new_words.append(w)\n",
    "        \n",
    "    #loop through the list new_words without going to the last word\n",
    "    for j in range(len(new_words)-1):\n",
    "        \n",
    "        #check for double words\n",
    "        if new_words[j]==new_words[j+1]:\n",
    "            \n",
    "            #calculate first position of the double word\n",
    "            position=j+1\n",
    "            \n",
    "            #store the double word\n",
    "            repetition=new_words[j]\n",
    "            \n",
    "            #print the repetition\n",
    "            print('Repetition in line {}. Word \"{}\" at position {}!'.format(i+1,repetition,position))\n",
    "            \n",
    "    #store the start word of each line into the list start_words\n",
    "    start_word=new_words[0]\n",
    "    start_words.append(start_word)\n",
    "    \n",
    "    #same for end word\n",
    "    end_word=new_words[len(new_words)-1]\n",
    "    end_words.append(end_word)\n",
    "\n",
    "#loop through every start words except the first one\n",
    "for i in range(1,len(start_words)):\n",
    "    \n",
    "    #ignore empty lines\n",
    "    if start_words[i]!='':\n",
    "        \n",
    "        #slice the end words up to the previous line of the current line of the start word\n",
    "        matches=end_words[:i]\n",
    "        \n",
    "        #eliminate empty elements ''\n",
    "        matches=list(filter(None,matches))\n",
    "        \n",
    "        #see if the last non-empty element of end_words is the same as the current start word\n",
    "        if matches[-1]==start_words[i]:\n",
    "            \n",
    "            #print the repetition\n",
    "            print('Repetition of the first word \"{}\" on line {}. It occured at the end of the previous (non-empty) line!'.format(start_words[i],i+1))\n"
   ]
  },
  {
   "cell_type": "code",
   "execution_count": null,
   "metadata": {},
   "outputs": [],
   "source": []
  }
 ],
 "metadata": {
  "kernelspec": {
   "display_name": "Python 3",
   "language": "python",
   "name": "python3"
  },
  "language_info": {
   "codemirror_mode": {
    "name": "ipython",
    "version": 3
   },
   "file_extension": ".py",
   "mimetype": "text/x-python",
   "name": "python",
   "nbconvert_exporter": "python",
   "pygments_lexer": "ipython3",
   "version": "3.7.3"
  }
 },
 "nbformat": 4,
 "nbformat_minor": 4
}
