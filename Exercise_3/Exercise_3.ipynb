{
 "cells": [
  {
   "cell_type": "markdown",
   "metadata": {
    "deletable": false,
    "editable": false,
    "nbgrader": {
     "cell_type": "markdown",
     "checksum": "f3873961d25d37da669d11fbba435ee1",
     "grade": false,
     "grade_id": "cell-515e01b25bda86a9",
     "locked": true,
     "schema_version": 3,
     "solution": false,
     "task": false
    }
   },
   "source": [
    "# Exercise 3"
   ]
  },
  {
   "cell_type": "markdown",
   "metadata": {
    "deletable": false,
    "editable": false,
    "nbgrader": {
     "cell_type": "markdown",
     "checksum": "4b626efa2d7eef08626b61e49a967259",
     "grade": false,
     "grade_id": "cell-14ca577e70096fbf",
     "locked": true,
     "schema_version": 3,
     "solution": false,
     "task": false
    }
   },
   "source": [
    "## physics718: Programming in Physics and Astronomy with C++ or Python (SS 2020)\n",
    "Oliver Cordes & Thomas Erben"
   ]
  },
  {
   "cell_type": "markdown",
   "metadata": {
    "deletable": false,
    "editable": false,
    "nbgrader": {
     "cell_type": "markdown",
     "checksum": "f935baff9cc8076b4a41b972aca839b5",
     "grade": false,
     "grade_id": "cell-58e8949e2e41603c",
     "locked": true,
     "schema_version": 3,
     "solution": false,
     "task": false
    }
   },
   "source": [
    "Homework is due on **Wednesday, 20/05/2020, 23:59pm**\n",
    "\n",
    " * You only learn a programming language by actively praticing and using it! We therefore **strongly** advise you to work on the homework problems.\n",
    " * Please discuss the problems with your student peers in case of problems.\n",
    " * Your code(s) needs to be well and appropriately commented!\n",
    " * All files of your solution should be in the same directory as this notebook including scripts, images, additional notebooks etc.\n",
    " * References to files in scripts and notebooks should be done with relative paths\n",
    " * Finally submit this notebook with your solutions in the nbgrader system\n",
    " \n",
    "**Main topics of this exercise:**\n",
    " * basics with *numpy*\n",
    " * how to create proper plots with *matplotlib*"
   ]
  },
  {
   "cell_type": "markdown",
   "metadata": {},
   "source": [
    "Put in here your group number: \n",
    "\n",
    "Group 26"
   ]
  },
  {
   "cell_type": "markdown",
   "metadata": {
    "deletable": false,
    "editable": false,
    "nbgrader": {
     "cell_type": "markdown",
     "checksum": "227a23943546dee1ef3b36062b4de127",
     "grade": false,
     "grade_id": "cell-c0ffee563ebbf197",
     "locked": true,
     "schema_version": 3,
     "solution": false,
     "task": false
    }
   },
   "source": [
    "# 1. Numerical integration (15 Points)"
   ]
  },
  {
   "cell_type": "markdown",
   "metadata": {
    "deletable": false,
    "editable": false,
    "nbgrader": {
     "cell_type": "markdown",
     "checksum": "2a44ca4ef1962d76ddaeb06c722c22a8",
     "grade": false,
     "grade_id": "cell-9c1d31c09a952d4a",
     "locked": true,
     "schema_version": 3,
     "solution": false,
     "task": false
    }
   },
   "source": [
    "We want to estimate the integral:\n",
    "\n",
    "$$\\int_1^2 \\frac{1}{x}{\\rm d} x = \\log 2 \\approx 0.693147 $$\n",
    "\n",
    "For the calculation we want to compare different mathematical methods. Be $f(x)$ a continuous function on the interval $I=[a;b]$. Be $x_i$ with $a < x_0 < \\dots < x_n < b$ a decomposition of the interval $I$. The integral area below the function can be divided into a finite number of small areas $A_i$. The sum of these areas approximates the integral:\n",
    "$$ \\int_a^bf(x)\\,{\\rm d}x\\approx \\sum_{i=0}^{n-1} A_i$$\n",
    "\n",
    "These numerical approximations can be reduced in the way how the small areas are calculated:\n",
    "1. The simplest approximation is the use of the Riemann sums. The area below the function $f$ will be described by a series of rectangles. One rectangle between $x_i$ and $x_{i+1}$ can be calculated with:\n",
    "    $$A_i = (x_{i+1}-x_i) \\cdot f\\left(\\frac{x_i+x_{i+1}}2\\right)$$\n",
    "2. Instead of a rectangle one can also define a trapezium:\n",
    "    $$A_i = (x_{i+1}-x_i) \\cdot \\left( \\frac{f(x_i)+f(x_{i+1})}{2} \\right)$$\n",
    "3. A further approximation is the Simpsons method in which the part below the function is approximated by a parabel. The area can be calculated by:\n",
    "    $$A_i = (x_{i+1}-x_i)\\cdot \\frac{1}{6} \\left( f(x_i) + 4\\cdot f\\left(\\frac{x_i+x_{i+1}}2\\right) + f(x_{i+1}) \\right)$$\n",
    "    \n",
    "    \n",
    "To illustrate the different approximations, the small areas for each method are drawn for the $f(x)=\\frac{1}{x}$ function:\n",
    "<table>\n",
    "<tr>\n",
    "    <td>\n",
    "        <img src=\"riemann.png\">\n",
    "    </td>\n",
    "    <td>\n",
    "        <img src=\"trapez.png\">\n",
    "    </td>\n",
    "    <td>\n",
    "        <img src=\"simpson.png\">\n",
    "    </td>\n",
    "</tr>\n",
    "</table>\n",
    "    \n",
    "**Your tasks:**\n",
    "\n",
    " Implement each of the approximation for the given integral with numpy arrays and compare the results. Which method gives the best value in comparison to the exact value of $\\log 2$ (use a print command for your decision!)?  You can assume a separation of the intervall $I=[a;b]$ in $n=50$ equally spaced parts. Store the calculated values for the integrals in the variables *int_riemann*, *int_trapezium*, and *int_simpsons* for the validation.\n",
    " \n",
    "**Hints:**\n",
    "\n",
    "For the calculation of the function values $f(x)$ we pre defined a simple function which you can use. You can use this function with ```y=f(x)```. ```x``` can be a float or integer variable or a numpy-array!"
   ]
  },
  {
   "cell_type": "code",
   "execution_count": 89,
   "metadata": {
    "deletable": false,
    "nbgrader": {
     "cell_type": "code",
     "checksum": "1551d4b2e6e6d6fb5e2b2e48f93593bb",
     "grade": false,
     "grade_id": "cell-5f0ce154e0a059dc",
     "locked": false,
     "schema_version": 3,
     "solution": true,
     "task": false
    }
   },
   "outputs": [
    {
     "name": "stdout",
     "output_type": "stream",
     "text": [
      "The riemann approximation gives 0.6931346816534534. \n",
      "The trapezium approximation gives 0.6931721793101951. \n",
      "The simpsons approximation gives 0.6931471808723672.\n",
      "The most accurate method is simpsons approximation.\n"
     ]
    }
   ],
   "source": [
    "import numpy as np\n",
    "\n",
    "def f(x):\n",
    "    \"\"\"The simple function that returns 1/x.\"\"\"\n",
    "    return 1/x\n",
    "\n",
    "#decompose [1,2] into 50 equally spaced parts\n",
    "x=np.linspace(1,2,51)\n",
    "\n",
    "#shift to left and right by one to do subtraction below\n",
    "x_left=np.delete(x,50)\n",
    "x_right=np.delete(x,0)\n",
    "\n",
    "#calculate each small areas for three methods\n",
    "area_riemann=(x_right-x_left)*f((x_left+x_right)/2)\n",
    "area_trapezium=(x_right-x_left)*(f(x_left)+f(x_right))/2\n",
    "area_simpsons=(x_right-x_left)*(f(x_left)+4*f((x_left+x_right)/2)+f(x_right))/6\n",
    "\n",
    "#sum the areas for three methods\n",
    "int_riemann=np.sum(area_riemann)\n",
    "int_trapezium=np.sum(area_trapezium)\n",
    "int_simpsons=np.sum(area_simpsons)\n",
    "\n",
    "#create two arrays with method names and results\n",
    "method=[\"riemann\",\"trapezium\",\"simpsons\"]\n",
    "values=[int_riemann,int_trapezium,int_simpsons]\n",
    "\n",
    "#print each result\n",
    "print(\"The riemann approximation gives {}. \\nThe trapezium approximation gives {}. \\nThe simpsons approximation gives {}.\".format(*values))\n",
    "\n",
    "#find the most accurate result and print method name\n",
    "index=np.argmin(abs(np.log(2)-values))\n",
    "print(\"The most accurate method is {} approximation.\".format(method[index]))"
   ]
  },
  {
   "cell_type": "code",
   "execution_count": 34,
   "metadata": {
    "deletable": false,
    "editable": false,
    "nbgrader": {
     "cell_type": "code",
     "checksum": "cc2e2947122d339c26df6402275ba671",
     "grade": true,
     "grade_id": "cell-14e6d4fbba67216e",
     "locked": true,
     "points": 5,
     "schema_version": 3,
     "solution": false,
     "task": false
    }
   },
   "outputs": [],
   "source": [
    "assert(np.isclose(int_riemann,0.6931341663352333))"
   ]
  },
  {
   "cell_type": "code",
   "execution_count": 35,
   "metadata": {
    "deletable": false,
    "editable": false,
    "nbgrader": {
     "cell_type": "code",
     "checksum": "3db9a9beca7c13bb2d8b0e7b15c76d9b",
     "grade": true,
     "grade_id": "cell-1c509b720ea0ab5a",
     "locked": true,
     "points": 5,
     "schema_version": 3,
     "solution": false,
     "task": false
    }
   },
   "outputs": [],
   "source": [
    "assert(np.isclose(int_trapezium,0.6931732100255125))"
   ]
  },
  {
   "cell_type": "code",
   "execution_count": 36,
   "metadata": {
    "deletable": false,
    "editable": false,
    "nbgrader": {
     "cell_type": "code",
     "checksum": "868c694a2846def7587e61b27220bc62",
     "grade": true,
     "grade_id": "cell-af0604237a2e5b42",
     "locked": true,
     "points": 5,
     "schema_version": 3,
     "solution": false,
     "task": false
    }
   },
   "outputs": [],
   "source": [
    "assert(np.isclose(int_simpsons,0.6931471808986598))"
   ]
  },
  {
   "cell_type": "markdown",
   "metadata": {
    "deletable": false,
    "editable": false,
    "nbgrader": {
     "cell_type": "markdown",
     "checksum": "cce2595d698ccd1f96dd66639190a2db",
     "grade": false,
     "grade_id": "cell-8709a68032369c89",
     "locked": true,
     "schema_version": 3,
     "solution": false,
     "task": false
    }
   },
   "source": [
    "# 2. Proper plotting (20 Points)"
   ]
  },
  {
   "cell_type": "markdown",
   "metadata": {
    "deletable": false,
    "editable": false,
    "nbgrader": {
     "cell_type": "markdown",
     "checksum": "8dd41a4870de568fd8dc4d12d584d6ff",
     "grade": false,
     "grade_id": "cell-3500959ca9dd09fb",
     "locked": true,
     "schema_version": 3,
     "solution": false,
     "task": false
    }
   },
   "source": [
    "One typical problem in science publishing is the quality of the plot added to a publication. During data reduction and analysis scientist focus more on the algorithms and explanations than on the plots itself which are on the other hand an important driver of the presentation of science results.\n",
    "\n",
    "Thomas created a nice [notebook](https://binderhub.astro.uni-bonn.de/v2/gh/terben/Python-cheat-sheets/master\\?filepath\\=publication_quality_plots_with_matplotlib.ipynb) which focus on this topic and gives a nice example how to produce plots with high quality directly for science publications. Please read this notebook carefully and \n",
    "\n",
    "In this task you should make use of the presented ```homogenise_plot.py``` module which is in the same directory as this notebook and recreate a plot and integrate the plot in a sample $\\LaTeX$ document. Use this command to import this modul:\n",
    "```Python\n",
    "import homogenise_plot as hp\n",
    "```\n",
    "As described in Thomas notebook, you have the command ```hp.homogenise_plot(<parameters>)``` available to change the plot-Parameter. \n",
    "\n",
    "**Your task:**\n",
    "\n",
    "The example plot you should recreate is the plot of the density distribution of a star depending on the radius. We have prepared a data file which you can use ```ascii_profile_example.dat```. The important colums of the file are the first (density) and the second (radius) column. The data should be plotted in a line plot (```plt.plot(...)```). The data needs to be plotted in a *log-log* style. Therefore use the functions ```plt.xscale(...)``` and ```plt.yscale(...)``` respectively. Your first plot should look like this:\n",
    "\n",
    "<img src=\"sample_plot.png\" style=\"width:55%;\" />"
   ]
  },
  {
   "cell_type": "code",
   "execution_count": 91,
   "metadata": {},
   "outputs": [
    {
     "data": {
      "image/png": "[encoded data removed]",
      "text/plain": [
       "<Figure size 432x288 with 1 Axes>"
      ]
     },
     "metadata": {
      "needs_background": "light"
     },
     "output_type": "display_data"
    },
    {
     "data": {
      "image/png": "[encoded data removed]",
      "text/plain": [
       "<Figure size 201.6x124.596 with 1 Axes>"
      ]
     },
     "metadata": {
      "needs_background": "light"
     },
     "output_type": "display_data"
    }
   ],
   "source": [
    "%matplotlib inline\n",
    "import matplotlib.pyplot as plt\n",
    "\n",
    "#read data and put the first two columns into two arrays\n",
    "data=np.loadtxt('ascii_profile_example.dat')\n",
    "radius=data[:,0]\n",
    "density=data[:,1]\n",
    "\n",
    "#plot log-scale graph and add legend\n",
    "plt.xscale('log')\n",
    "plt.yscale('log')\n",
    "plt.plot(radius,density, label=\"Density profile\")\n",
    "\n",
    "#set axis label and graph title\n",
    "plt.xlabel(\"Radius $/ cm$\")\n",
    "plt.ylabel(\"Density $/g / cm^3$\")\n",
    "plt.title(\"Mass density of a star by group 26\")\n",
    "\n",
    "plt.legend()\n",
    "# save the figure to a file and also show it:\n",
    "plt.savefig(\"./mass_density_plot.png\")\n",
    "plt.show()\n",
    "\n",
    "#use Thomas' notebook\n",
    "import homogenise_plot as hp\n",
    "\n",
    "# create a homogenised plot for a columnwidth of 2.8 inch:\n",
    "hp.homogenise_plot(fig_width=2.8)\n",
    "\n",
    "#plot log-scale graph and add legend\n",
    "plt.xscale('log')\n",
    "plt.yscale('log')\n",
    "plt.plot(radius, density, label=r\"Density profile\")\n",
    "\n",
    "#set axis label and graph title\n",
    "plt.xlabel(r\"Radius [\\si{\\centi\\meter}]\")\n",
    "plt.ylabel(r\"Density [\\si{\\gram\\per\\centi\\meter\\cubed}]\")\n",
    "plt.title(\"Mass density of a star by group 26\")\n",
    "\n",
    "plt.legend()\n",
    "# save the figure to a file and also show it:\n",
    "plt.savefig(\"./mass_density_plot_two_columns.png\")\n",
    "plt.show()\n",
    "\n",
    "# revert changes to the configuration made by homogenize_plot:\n",
    "hp.revert_params()\n"
   ]
  },
  {
   "cell_type": "markdown",
   "metadata": {},
   "source": [
    "Please change the group number in the title to your group number! \n",
    "\n",
    "Then save this image as ```mass_density_plot.png```. Now use the ```homogenise_plot``` module to create the same plot as ```mass_density_plot_two_columns.png``` for a *two column* $\\LaTeX$-Document. Use for the physical units of both axes the \n",
    "the typeset rules from $\\LaTeX$ `siunitx` package. Write a short $\\LaTeX$-document in which you include the two plots and describe in the text what the main differences are between the native matplotlib-plot and the optimized plot.\n",
    "\n",
    "\n",
    "**Hints:**\n",
    " * You need several commands for the plotting. Have a look at the documentation of the [pyplot-functions](https://matplotlib.org/3.2.1/api/pyplot_summary.html) and their parmaters.\n",
    " * Because of some matplotlib-problems you should use ```hp.revert_params()``` after you have used ```plt.savefig(...)``` to restore the original matplotlib settings\n",
    " * You can write the code to generate all plots in one code cell, but then use ```plt.show()``` after you have saved the plot in a file!"
   ]
  }
 ],
 "metadata": {
  "kernelspec": {
   "display_name": "Python 3",
   "language": "python",
   "name": "python3"
  },
  "language_info": {
   "codemirror_mode": {
    "name": "ipython",
    "version": 3
   },
   "file_extension": ".py",
   "mimetype": "text/x-python",
   "name": "python",
   "nbconvert_exporter": "python",
   "pygments_lexer": "ipython3",
   "version": "3.7.3"
  }
 },
 "nbformat": 4,
 "nbformat_minor": 4
}
