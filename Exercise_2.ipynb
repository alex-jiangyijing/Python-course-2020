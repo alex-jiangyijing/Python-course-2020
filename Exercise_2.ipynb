{
 "cells": [
  {
   "cell_type": "markdown",
   "metadata": {
    "deletable": false,
    "editable": false,
    "nbgrader": {
     "cell_type": "markdown",
     "checksum": "d00ca033f5ab9926bebe1b6638f92215",
     "grade": false,
     "grade_id": "cell-515e01b25bda86a9",
     "locked": true,
     "schema_version": 3,
     "solution": false,
     "task": false
    }
   },
   "source": [
    "# Exercise 2"
   ]
  },
  {
   "cell_type": "markdown",
   "metadata": {
    "deletable": false,
    "editable": false,
    "nbgrader": {
     "cell_type": "markdown",
     "checksum": "4b626efa2d7eef08626b61e49a967259",
     "grade": false,
     "grade_id": "cell-14ca577e70096fbf",
     "locked": true,
     "schema_version": 3,
     "solution": false,
     "task": false
    }
   },
   "source": [
    "## physics718: Programming in Physics and Astronomy with C++ or Python (SS 2020)\n",
    "Oliver Cordes & Thomas Erben"
   ]
  },
  {
   "cell_type": "markdown",
   "metadata": {
    "deletable": false,
    "editable": false,
    "nbgrader": {
     "cell_type": "markdown",
     "checksum": "8a0fec9f63a4db2289cc5c7ef4a0ae35",
     "grade": false,
     "grade_id": "cell-58e8949e2e41603c",
     "locked": true,
     "schema_version": 3,
     "solution": false,
     "task": false
    }
   },
   "source": [
    "Homework is due on **Tuesday, 05/05/2020, 23:59pm**\n",
    "\n",
    " * You only learn a programming language by actively praticing and using it! We therefore **strongly** advise you to work on the homework problems.\n",
    " * Please discuss the problems with your student peers in case of problems.\n",
    " * Your code(s) needs to be well and appropriately commented!\n",
    " * All files of your solution should be in the same directory as this notebook\n",
    " * Finally submit this notebook with your solutions in the nbgrader system\n",
    " \n",
    "**Main topics of this exercise:**\n",
    " * work with scalar types in Python *int*, *float* and *bool*\n",
    " * control structures *if* and *while*\n",
    " * floating poing accuracy"
   ]
  },
  {
   "cell_type": "markdown",
   "metadata": {},
   "source": [
    "Put in here your group number: \n",
    "\n",
    "Group 26"
   ]
  },
  {
   "cell_type": "markdown",
   "metadata": {
    "deletable": false,
    "editable": false,
    "nbgrader": {
     "cell_type": "markdown",
     "checksum": "93fbc2f39f42d870af04b3cde1c6f5af",
     "grade": false,
     "grade_id": "cell-31e85fba112e2b98",
     "locked": true,
     "schema_version": 3,
     "solution": false,
     "task": false
    }
   },
   "source": [
    "# 1. Numbers to binaries (20 points)"
   ]
  },
  {
   "cell_type": "markdown",
   "metadata": {},
   "source": [
    "## 1.1) Integers to binaries"
   ]
  },
  {
   "cell_type": "markdown",
   "metadata": {
    "deletable": false,
    "editable": false,
    "nbgrader": {
     "cell_type": "markdown",
     "checksum": "a0f811a81b0280056edf80d0514289f2",
     "grade": false,
     "grade_id": "cell-0c9d44d4478fbf15",
     "locked": true,
     "schema_version": 3,
     "solution": false,
     "task": false
    }
   },
   "source": [
    "As mentioned in the lecture integer numbers can be written in different number systems. For us humans we are working in the decimal system but the computers are dealing with numbers in the binary system. Theoretically all integer numbers $n$ can be written in number systems with a base $b$:\n",
    "\n",
    "$$ n = \\sum_{i=0}^{m} q_{i}b^{i}$$\n",
    "\n",
    "with $0 \\le q_{i} < b$. As said we humans use $b=10$ and the computer $b=2$. \n",
    "\n",
    "In this first task we want to convert numbers into the binary system. Here are some examples:\n",
    "* $1_{10}$ -> $1_2$\n",
    "* $3_{10}$ -> $11_2$\n",
    "* $14_{10}$ -> $1110_2$\n",
    "etc.\n",
    "\n",
    "For the conversion you can use the following algorithm. Start with the number to be converted and divide this number by 2 and store the quotient and the rest. Then proceed with the quotient and divide this number again until the quotient reaches 0. The rest numbers written in the reverse order gives the representation of $n$ in the binary system.\n",
    "\n",
    "Here is an example which converts $n=14$ into the binary system:\n",
    "$$ 14 :2 = 7 + 0$$ \n",
    "the quotient is 7  and the rest is 0, then:\n",
    "$$ 7 :2 = 3 + 1 $$\n",
    "$$ 3 :2 = 1 + 1 $$\n",
    "$$ 1 :2 = 0 + 1 $$\n",
    "\n",
    "The rest numbers written in the reverse order are now $1110$ which is 14 written in the binary system!\n",
    "\n",
    "**Your task:**\n",
    "\n",
    "Implement the algorithm in a single notebook code cell. Start with a predefined variable $n$ which contains the number to convert. The converted number should be stored in a string with the name *output_integer*. Print this string at the end of the code. The value of *output_integer* will be tested in the grading system, so for the validation please convert the $n=14$!\n",
    "\n",
    "**Hints:**\n",
    " * on this [webpage](https://indepth.dev/the-simple-math-behind-decimal-binary-conversion-algorithms/) you can see how and why the algorithm is working (this page uses the base 2 and describes the decimal to binary conversion)\n",
    " * you can do all the divisions in a while loop\n",
    " * for calculating the quotient and the rest you can use the [*divmod*](https://docs.python.org/3/library/functions.html#divmod)-command in python.\n",
    "   \n",
    "   Example:\n",
    "   ```Python\n",
    "   quot, rest = divmod(a,b)\n",
    "   ```\n",
    " * for the representation of the converted number you can start with an empty string e.g. ```s = ''``` and prepend a rest\n",
    "   number in every step with ```s = str(rest) + s``` !\n",
    " * test your code with different examples, e.g. $n=14$ and $n=0$!"
   ]
  },
  {
   "cell_type": "code",
   "execution_count": 5,
   "metadata": {
    "deletable": false,
    "nbgrader": {
     "cell_type": "code",
     "checksum": "da4a6579a638cf48e320dd4baebf4e22",
     "grade": false,
     "grade_id": "cell-249cdf3b0452f1ac",
     "locked": false,
     "schema_version": 3,
     "solution": true,
     "task": false
    }
   },
   "outputs": [
    {
     "data": {
      "text/plain": [
       "'111111'"
      ]
     },
     "execution_count": 5,
     "metadata": {},
     "output_type": "execute_result"
    }
   ],
   "source": [
    "b = 2\n",
    "\n",
    "# YOUR CODE HERE\n",
    "\n",
    "def convert2(n,b):                           \n",
    "    n_2 = ''                                 # Initialize string to be returned and set first value for quot\n",
    "    quot = n\n",
    "    if n==0:                                 # check whether n=0 before going into the while loop\n",
    "        return'0' \n",
    "    while quot!=0:                           # repeat loop until quot is zero\n",
    "        quot, rest = divmod(quot,b)          # for conversion into the binary system, choose  division by two\n",
    "        n_2 = str(rest) + n_2                # add element to existing string  \n",
    "    return n_2\n",
    "\n",
    "\n",
    "convert2(14,b)\n",
    "convert2(63,b)"
   ]
  },
  {
   "cell_type": "code",
   "execution_count": null,
   "metadata": {
    "deletable": false,
    "editable": false,
    "nbgrader": {
     "cell_type": "code",
     "checksum": "4e60e3fb64d71726b1f5c68eded162d7",
     "grade": true,
     "grade_id": "cell-bcf437cbac810793",
     "locked": true,
     "points": 10,
     "schema_version": 3,
     "solution": false,
     "task": false
    }
   },
   "outputs": [],
   "source": [
    "assert(output_integer == '1110')"
   ]
  },
  {
   "cell_type": "code",
   "execution_count": null,
   "metadata": {
    "editable": false,
    "nbgrader": {
     "cell_type": "code",
     "checksum": "4e60e3fb64d71726b1f5c68eded162d7",
     "grade": true,
     "grade_id": "cell-bcf437cbac810793",
     "locked": true,
     "points": 10,
     "schema_version": 3,
     "solution": false,
     "task": false
    }
   },
   "outputs": [],
   "source": [
    "assert(output_integer == '1110')"
   ]
  },
  {
   "cell_type": "markdown",
   "metadata": {
    "deletable": false,
    "editable": false,
    "nbgrader": {
     "cell_type": "markdown",
     "checksum": "0357ea75da1ee013135b2796cf5b0887",
     "grade": false,
     "grade_id": "cell-10fe31fa38e248c2",
     "locked": true,
     "schema_version": 3,
     "solution": false,
     "task": false
    }
   },
   "source": [
    "## 1.2) Floats to binaries"
   ]
  },
  {
   "cell_type": "markdown",
   "metadata": {
    "deletable": false,
    "editable": false,
    "nbgrader": {
     "cell_type": "markdown",
     "checksum": "6e179adb64157ba1eacf8cd61e1a88c0",
     "grade": false,
     "grade_id": "cell-235e94f0cf6e8562",
     "locked": true,
     "schema_version": 3,
     "solution": false,
     "task": false
    }
   },
   "source": [
    "Converting floating point number into the binary system is similar to the integer conversion. The sum as shown above can be extended with negative indices. \n",
    "\n",
    "$$ x = \\sum_{i=-k}^{m} q_{i}b^{i}$$\n",
    "\n",
    "Here are a few examples:\n",
    " * $1.5_{10}$  -> $1.1_2$\n",
    " * $3.25_{10}$ -> $11.01_2$\n",
    " ...\n",
    " \n",
    " \n",
    "For the conversion of a float number $x$ one can use the following algorithm. First we will multiply $x$ with 2 until $x$ is (approximately) an integer. We should store the number of multiplications. Then we can convert this int into a binary using the algorithm which you implemented above. To convert the binary into a binary float we can add a *binary point* at the end and shift the point to the left by the number of multiplication positions.\n",
    "\n",
    "Let's convert the floating point number $x=3.25$:\n",
    "\n",
    "1. Do the multiplications: $3.25 * 2 = 6.5$ -> $6.5 * 2 = 13$ -> which means 2 multiplications until we have an integer\n",
    "2. convert 13 into a binary -> $1101$\n",
    "3. add a binary point at the end: $1101.$\n",
    "3. shift the point by 2 positions to the left, to compensate for the multiplications -> $x_b = 11.01_2$\n",
    "\n",
    "A second example, convert $x=0.125$:\n",
    "\n",
    "1. Do the multiplications: $0.125 * 2 * 2 * 2 = 1$ -> 3 multiplications\n",
    "2. convert 1 into a binary (trivial) -> $1$\n",
    "3. now we need to prepend $n*0$ (n zeros, n = min. the number of multiplications) and the binary point at the end: $0001.$\n",
    "4. shift the point by 3 positions to the left, to compensate for the multiplications -> $x_b = 0.001_2$\n",
    "\n",
    "**Your task**:\n",
    "\n",
    "Implement this algorithm. You can use the code from the previous task to convert an integer into a binary. \n",
    "For some of the floating point numbers there will be not an exact binary representation. You can stop the multiplication after you calculated a value which differs less than $10^{-6}$ from its integer representation. \n",
    "If you have done more than 10 multiplications you should print a warning at the end of your code indicating that the binary representation is probably not finite.\n",
    "\n",
    "**Hints**:\n",
    " * to convert an floating point number $x$ to an integer you can use ```int(x)```! ```int(x)``` truncates $x$ towards zero.\n",
    " * use the function ```abs(x-int(x))``` to test the accuracy of the interger conversion\n",
    " * to shift the binary point, you can directly put the binary point at the correct place (don't add the point at the end before).    For adding the point, please  have a look at the following cell with a small introduction into *slices* of array and array like structures e.g. strings"
   ]
  },
  {
   "cell_type": "code",
   "execution_count": 30,
   "metadata": {},
   "outputs": [
    {
     "name": "stdout",
     "output_type": "stream",
     "text": [
      "1\n",
      "9\n",
      "23\n",
      "23456789\n",
      "12\n",
      "89\n",
      "123.456789\n"
     ]
    }
   ],
   "source": [
    "# strings are represented similar to arrays\n",
    "s = '123456789'\n",
    "\n",
    "# each character can accessed by their position\n",
    "print(s[0])   # the first character, starting with 0 until length of the string -1\n",
    "print(s[-1])  # negative indices counts from the end\n",
    "\n",
    "# you can cut a smaller string out of the larger string, by defining start and end-indices\n",
    "print(s[1:3]) # print the second and the third character\n",
    "print(s[1:])  # if you leave the second limit open, it means until the end\n",
    "print(s[:2])  # if you leave the beginning open, it means from the beginning\n",
    "print(s[-2:]) # print the last two characters \n",
    "\n",
    "point = 6\n",
    "# if you want to place a point between the the first  and the last 5 characters\n",
    "# you need to cut the string into 2 pieces and put the '.' in between\n",
    "s = s[:-point] + '.' + s[-point:]\n",
    "print(s)"
   ]
  },
  {
   "cell_type": "code",
   "execution_count": 85,
   "metadata": {
    "deletable": false,
    "nbgrader": {
     "cell_type": "code",
     "checksum": "24454952628a60b3f2ba92ef1c562e94",
     "grade": false,
     "grade_id": "cell-95b6c4063d5857c1",
     "locked": false,
     "schema_version": 3,
     "solution": true,
     "task": false
    }
   },
   "outputs": [
    {
     "name": "stdout",
     "output_type": "stream",
     "text": [
      "The binary representation is probably not finite.\n"
     ]
    },
    {
     "data": {
      "text/plain": [
       "'1.0011110001100010011010000010011111100101001010011111'"
      ]
     },
     "execution_count": 85,
     "metadata": {},
     "output_type": "execute_result"
    }
   ],
   "source": [
    "# YOUR CODE HERE\n",
    "def convert_float(f,b):\n",
    "    mult_f = f                                                   # stores value after multiplications\n",
    "    n_mult = 0                                                   # stores number of multiplications\n",
    "    epsilon = 10**(-6)\n",
    "    while abs(mult_f -int(mult_f)) > epsilon:                    # multiplies by two until precision is reached\n",
    "        n_mult += 1\n",
    "        mult_f = 2*mult_f\n",
    "        \n",
    "    s = convert2(int(mult_f),b)                                    # original algorithm with int argument\n",
    "    if n_mult != 0:                                              # adding the point in case f was not an integer                                           \n",
    "        \n",
    "              \n",
    "        if f<1:                                                  # f<1 requires adding further zeros to the depending on the number of multiplications\n",
    "            for i in range(n_mult):\n",
    "                \n",
    "                s = str(0) + s \n",
    "        s = s[:-n_mult] + '.' + s[-n_mult:]\n",
    "    if (n_mult)>=10 :\n",
    "        print('The binary representation is probably not finite.') \n",
    "    return(s)\n",
    "\n",
    "\n",
    "#convert_float(14)\n",
    "#convert_float(0)\n",
    "#convert_float(0.5)\n",
    "#convert_float(0.25)\n",
    "#convert_float(1.5)\n",
    "convert_float(1.25)\n",
    "convert_float(1.2358765695)"
   ]
  },
  {
   "cell_type": "code",
   "execution_count": 69,
   "metadata": {
    "deletable": false,
    "editable": false,
    "nbgrader": {
     "cell_type": "code",
     "checksum": "8923a628c831d5cb7a392504758151e4",
     "grade": true,
     "grade_id": "cell-ab47346348a927a3",
     "locked": true,
     "points": 10,
     "schema_version": 3,
     "solution": false,
     "task": false
    }
   },
   "outputs": [
    {
     "ename": "NameError",
     "evalue": "name 'output_float' is not defined",
     "output_type": "error",
     "traceback": [
      "\u001b[0;31m---------------------------------------------------------------------------\u001b[0m",
      "\u001b[0;31mNameError\u001b[0m                                 Traceback (most recent call last)",
      "\u001b[0;32m<ipython-input-69-1801d02375d8>\u001b[0m in \u001b[0;36m<module>\u001b[0;34m\u001b[0m\n\u001b[0;32m----> 1\u001b[0;31m \u001b[0;32massert\u001b[0m\u001b[0;34m(\u001b[0m\u001b[0moutput_float\u001b[0m\u001b[0;34m.\u001b[0m\u001b[0mlstrip\u001b[0m\u001b[0;34m(\u001b[0m\u001b[0;34m'0'\u001b[0m\u001b[0;34m)\u001b[0m \u001b[0;34m==\u001b[0m \u001b[0;34m'11.01'\u001b[0m\u001b[0;34m)\u001b[0m\u001b[0;34m\u001b[0m\u001b[0;34m\u001b[0m\u001b[0m\n\u001b[0m",
      "\u001b[0;31mNameError\u001b[0m: name 'output_float' is not defined"
     ]
    }
   ],
   "source": [
    "assert(output_float.lstrip('0') == '11.01')"
   ]
  },
  {
   "cell_type": "markdown",
   "metadata": {
    "deletable": false,
    "editable": false,
    "nbgrader": {
     "cell_type": "markdown",
     "checksum": "e4ffe04cf8e45649fb0d2eda55d541ff",
     "grade": false,
     "grade_id": "cell-5c20b7824c889804",
     "locked": true,
     "schema_version": 3,
     "solution": false,
     "task": false
    }
   },
   "source": [
    "# 2. Problems with an integral series (15 points)"
   ]
  },
  {
   "cell_type": "markdown",
   "metadata": {
    "deletable": false,
    "editable": false,
    "nbgrader": {
     "cell_type": "markdown",
     "checksum": "e557a4b813d6bf950d267cfd3969d664",
     "grade": false,
     "grade_id": "cell-637b4ff9e037754d",
     "locked": true,
     "schema_version": 3,
     "solution": false,
     "task": false
    }
   },
   "source": [
    "Consider the sequence\n",
    "$$\n",
    "E_n=\\int_0^1x^n\\exp(x-1)\\,\\mathrm{d}x; \\qquad n=1,2,\\dots\n",
    "$$\n",
    "One can show that it converges to zero: $\\lim_{n\\to\\infty}E_n=0$. Integrating by parts, we obtain the following relation between two consecutive elements:\n",
    "$$\n",
    "E_n = 1-nE_{n-1} \\text{ with } E_1=1-\\int_0^1\\exp(x-1)\\,\\mathrm{d}x=\\exp(-1).\n",
    "$$\n",
    "We want to estimate $E_{20}$. Do this by computing and printing the first 20 elements of the series. Obtain a second estimate of $E_{20}$ by reverting the relation:\n",
    "$$\n",
    "  E_{n-1} = \\frac 1n (1-E_{n}) \\text{ with } E_{50} = 0\n",
    "$$\n",
    "and printing the elements $E_{50}, E_{49}, \\dots, E_{20}$.\n",
    "\n",
    "**Your tasks:**\n",
    "\n",
    "Create a cell for each experiment/program and a markdown cell in which you argue which one of the results you trust more and try to explain why they disagree that much.\n",
    "\n",
    "\n",
    "**Hints:** \n",
    " * Assume that in the first case, $E_1$ is represented internally as a float number with an error, i.e. $E_1 = E^t_1 + \\epsilon$, where $E^t_1$ is the true value and $\\epsilon$ the error. We know that $\\epsilon\\approx 10^{-18}$ for `Python` float numbers. What happens with $\\epsilon$ when you calculate new elements of the series? \n",
    " * for the exponential function you can use the numpy module with ```import numpy``` and use the defined function ```numpy.exp(x)``` to calculate $e^x$!"
   ]
  },
  {
   "cell_type": "code",
   "execution_count": 14,
   "metadata": {
    "deletable": false,
    "nbgrader": {
     "cell_type": "code",
     "checksum": "fd35e21c7c587e99a7af8943c1f9c76a",
     "grade": true,
     "grade_id": "cell-3eae773e632eab70",
     "locked": false,
     "points": 5,
     "schema_version": 3,
     "solution": true,
     "task": false
    }
   },
   "outputs": [
    {
     "name": "stdout",
     "output_type": "stream",
     "text": [
      "[ 3.67879441e-01  6.32120559e-01 -2.64241118e-01  1.79272335e+00\n",
      " -6.17089341e+00  3.18544671e+01 -1.90126802e+02  1.33188762e+03\n",
      " -1.06541009e+04  9.58879084e+04 -9.58878084e+05  1.05476599e+07\n",
      " -1.26571918e+08  1.64543494e+09 -2.30360891e+10  3.45541337e+11\n",
      " -5.52866138e+12  9.39872435e+13 -1.69177038e+15  3.21436373e+16]\n"
     ]
    }
   ],
   "source": [
    "# YOUR CODE HERE\n",
    "import numpy as np\n",
    "\n",
    "E=np.zeros(50)           #create an array with 50 zeros\n",
    "E[0]=np.exp(-1)          #initialize E_1\n",
    "for i in range(1,20):    #iterate till E_20\n",
    "    E[i]=1-i*E[i-1]\n",
    "    \n",
    "print(E[0:20])           #print the first 20 elements"
   ]
  },
  {
   "cell_type": "code",
   "execution_count": 13,
   "metadata": {
    "deletable": false,
    "nbgrader": {
     "cell_type": "code",
     "checksum": "61b64f49b3e02da0b9db4faa7ddff2f2",
     "grade": true,
     "grade_id": "cell-8ec1cc6f8ddca053",
     "locked": false,
     "points": 5,
     "schema_version": 3,
     "solution": true,
     "task": false
    }
   },
   "outputs": [
    {
     "name": "stdout",
     "output_type": "stream",
     "text": [
      "[0.04772276 0.04554488 0.04355743 0.04173644 0.04006181 0.03851655\n",
      " 0.03708621 0.03575842 0.03452253 0.03336929 0.03229068 0.03127967\n",
      " 0.03033011 0.02943654 0.02859416 0.02779868 0.02704629 0.02633358\n",
      " 0.02565749 0.02501527 0.02440443 0.02382273 0.02326812 0.02273877\n",
      " 0.02223297 0.0217492  0.02128604 0.02084238 0.02040816 0.02040816\n",
      " 0.        ]\n"
     ]
    }
   ],
   "source": [
    "# YOUR CODE HERE\n",
    "for j in range(1,31):    #back iteration til E_20\n",
    "    i=50-j\n",
    "    E[i-1]=(1-E[i])/i\n",
    "    \n",
    "print(E[-31:])           #print E_20, E_21,..., E_50\n"
   ]
  },
  {
   "cell_type": "markdown",
   "metadata": {
    "deletable": false,
    "nbgrader": {
     "cell_type": "markdown",
     "checksum": "7eda755336ab082d55f3782eb5777a79",
     "grade": true,
     "grade_id": "cell-9e84b36eaf2530ef",
     "locked": false,
     "points": 5,
     "schema_version": 3,
     "solution": true,
     "task": false
    }
   },
   "source": [
    "YOUR ANSWER HERE\n",
    "\n",
    "The second method is more believable. \n",
    "\n",
    "The first method magnifies the inaccuracy every time by $n$. By the 20th element the inaccuracy has reached $20!\\times 10^{-18}\\approx 2$. More importantly, the oscillation of positive and negative results in the first method is a clear indicator of mistakes because the integral defined above is always positive. This happens because of the nature of the recurrsion relation $E_n = 1-nE_{n-1}$: magnification by $n$ makes the next element sensitive to sign switching.\n"
   ]
  },
  {
   "cell_type": "code",
   "execution_count": null,
   "metadata": {},
   "outputs": [],
   "source": []
  }
 ],
 "metadata": {
  "kernelspec": {
   "display_name": "Python 3",
   "language": "python",
   "name": "python3"
  },
  "language_info": {
   "codemirror_mode": {
    "name": "ipython",
    "version": 3
   },
   "file_extension": ".py",
   "mimetype": "text/x-python",
   "name": "python",
   "nbconvert_exporter": "python",
   "pygments_lexer": "ipython3",
   "version": "3.7.3"
  }
 },
 "nbformat": 4,
 "nbformat_minor": 4
}
